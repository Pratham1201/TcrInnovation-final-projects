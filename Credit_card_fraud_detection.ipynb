{
  "nbformat": 4,
  "nbformat_minor": 0,
  "metadata": {
    "colab": {
      "name": "Credit card fraud detection.ipynb",
      "provenance": []
    },
    "kernelspec": {
      "name": "python3",
      "display_name": "Python 3"
    },
    "language_info": {
      "name": "python"
    }
  },
  "cells": [
    {
      "cell_type": "markdown",
      "metadata": {
        "id": "JSWM5TzJjxx0"
      },
      "source": [
        "Importing the Dependencies"
      ]
    },
    {
      "cell_type": "code",
      "metadata": {
        "id": "JINgvf6Mjrqm"
      },
      "source": [
        "import numpy as np\n",
        "import pandas as pd\n",
        "from sklearn.model_selection import train_test_split\n",
        "from sklearn.linear_model import LogisticRegression\n",
        "from sklearn.metrics import accuracy_score"
      ],
      "execution_count": 5,
      "outputs": []
    },
    {
      "cell_type": "code",
      "metadata": {
        "id": "j9blJyLhj0Mi"
      },
      "source": [
        "credit_card_data = pd.read_csv('/content/creditcard.csv')"
      ],
      "execution_count": 6,
      "outputs": []
    },
    {
      "cell_type": "code",
      "metadata": {
        "colab": {
          "base_uri": "https://localhost:8080/",
          "height": 222
        },
        "id": "bPmpU9-bj3H0",
        "outputId": "9f11c53a-2c10-433c-a21f-619b785525b7"
      },
      "source": [
        "credit_card_data.head()"
      ],
      "execution_count": 7,
      "outputs": [
        {
          "output_type": "execute_result",
          "data": {
            "text/html": [
              "<div>\n",
              "<style scoped>\n",
              "    .dataframe tbody tr th:only-of-type {\n",
              "        vertical-align: middle;\n",
              "    }\n",
              "\n",
              "    .dataframe tbody tr th {\n",
              "        vertical-align: top;\n",
              "    }\n",
              "\n",
              "    .dataframe thead th {\n",
              "        text-align: right;\n",
              "    }\n",
              "</style>\n",
              "<table border=\"1\" class=\"dataframe\">\n",
              "  <thead>\n",
              "    <tr style=\"text-align: right;\">\n",
              "      <th></th>\n",
              "      <th>Time</th>\n",
              "      <th>V1</th>\n",
              "      <th>V2</th>\n",
              "      <th>V3</th>\n",
              "      <th>V4</th>\n",
              "      <th>V5</th>\n",
              "      <th>V6</th>\n",
              "      <th>V7</th>\n",
              "      <th>V8</th>\n",
              "      <th>V9</th>\n",
              "      <th>V10</th>\n",
              "      <th>V11</th>\n",
              "      <th>V12</th>\n",
              "      <th>V13</th>\n",
              "      <th>V14</th>\n",
              "      <th>V15</th>\n",
              "      <th>V16</th>\n",
              "      <th>V17</th>\n",
              "      <th>V18</th>\n",
              "      <th>V19</th>\n",
              "      <th>V20</th>\n",
              "      <th>V21</th>\n",
              "      <th>V22</th>\n",
              "      <th>V23</th>\n",
              "      <th>V24</th>\n",
              "      <th>V25</th>\n",
              "      <th>V26</th>\n",
              "      <th>V27</th>\n",
              "      <th>V28</th>\n",
              "      <th>Amount</th>\n",
              "      <th>Class</th>\n",
              "    </tr>\n",
              "  </thead>\n",
              "  <tbody>\n",
              "    <tr>\n",
              "      <th>0</th>\n",
              "      <td>0</td>\n",
              "      <td>-1.359807</td>\n",
              "      <td>-0.072781</td>\n",
              "      <td>2.536347</td>\n",
              "      <td>1.378155</td>\n",
              "      <td>-0.338321</td>\n",
              "      <td>0.462388</td>\n",
              "      <td>0.239599</td>\n",
              "      <td>0.098698</td>\n",
              "      <td>0.363787</td>\n",
              "      <td>0.090794</td>\n",
              "      <td>-0.551600</td>\n",
              "      <td>-0.617801</td>\n",
              "      <td>-0.991390</td>\n",
              "      <td>-0.311169</td>\n",
              "      <td>1.468177</td>\n",
              "      <td>-0.470401</td>\n",
              "      <td>0.207971</td>\n",
              "      <td>0.025791</td>\n",
              "      <td>0.403993</td>\n",
              "      <td>0.251412</td>\n",
              "      <td>-0.018307</td>\n",
              "      <td>0.277838</td>\n",
              "      <td>-0.110474</td>\n",
              "      <td>0.066928</td>\n",
              "      <td>0.128539</td>\n",
              "      <td>-0.189115</td>\n",
              "      <td>0.133558</td>\n",
              "      <td>-0.021053</td>\n",
              "      <td>149.62</td>\n",
              "      <td>0.0</td>\n",
              "    </tr>\n",
              "    <tr>\n",
              "      <th>1</th>\n",
              "      <td>0</td>\n",
              "      <td>1.191857</td>\n",
              "      <td>0.266151</td>\n",
              "      <td>0.166480</td>\n",
              "      <td>0.448154</td>\n",
              "      <td>0.060018</td>\n",
              "      <td>-0.082361</td>\n",
              "      <td>-0.078803</td>\n",
              "      <td>0.085102</td>\n",
              "      <td>-0.255425</td>\n",
              "      <td>-0.166974</td>\n",
              "      <td>1.612727</td>\n",
              "      <td>1.065235</td>\n",
              "      <td>0.489095</td>\n",
              "      <td>-0.143772</td>\n",
              "      <td>0.635558</td>\n",
              "      <td>0.463917</td>\n",
              "      <td>-0.114805</td>\n",
              "      <td>-0.183361</td>\n",
              "      <td>-0.145783</td>\n",
              "      <td>-0.069083</td>\n",
              "      <td>-0.225775</td>\n",
              "      <td>-0.638672</td>\n",
              "      <td>0.101288</td>\n",
              "      <td>-0.339846</td>\n",
              "      <td>0.167170</td>\n",
              "      <td>0.125895</td>\n",
              "      <td>-0.008983</td>\n",
              "      <td>0.014724</td>\n",
              "      <td>2.69</td>\n",
              "      <td>0.0</td>\n",
              "    </tr>\n",
              "    <tr>\n",
              "      <th>2</th>\n",
              "      <td>1</td>\n",
              "      <td>-1.358354</td>\n",
              "      <td>-1.340163</td>\n",
              "      <td>1.773209</td>\n",
              "      <td>0.379780</td>\n",
              "      <td>-0.503198</td>\n",
              "      <td>1.800499</td>\n",
              "      <td>0.791461</td>\n",
              "      <td>0.247676</td>\n",
              "      <td>-1.514654</td>\n",
              "      <td>0.207643</td>\n",
              "      <td>0.624501</td>\n",
              "      <td>0.066084</td>\n",
              "      <td>0.717293</td>\n",
              "      <td>-0.165946</td>\n",
              "      <td>2.345865</td>\n",
              "      <td>-2.890083</td>\n",
              "      <td>1.109969</td>\n",
              "      <td>-0.121359</td>\n",
              "      <td>-2.261857</td>\n",
              "      <td>0.524980</td>\n",
              "      <td>0.247998</td>\n",
              "      <td>0.771679</td>\n",
              "      <td>0.909412</td>\n",
              "      <td>-0.689281</td>\n",
              "      <td>-0.327642</td>\n",
              "      <td>-0.139097</td>\n",
              "      <td>-0.055353</td>\n",
              "      <td>-0.059752</td>\n",
              "      <td>378.66</td>\n",
              "      <td>0.0</td>\n",
              "    </tr>\n",
              "    <tr>\n",
              "      <th>3</th>\n",
              "      <td>1</td>\n",
              "      <td>-0.966272</td>\n",
              "      <td>-0.185226</td>\n",
              "      <td>1.792993</td>\n",
              "      <td>-0.863291</td>\n",
              "      <td>-0.010309</td>\n",
              "      <td>1.247203</td>\n",
              "      <td>0.237609</td>\n",
              "      <td>0.377436</td>\n",
              "      <td>-1.387024</td>\n",
              "      <td>-0.054952</td>\n",
              "      <td>-0.226487</td>\n",
              "      <td>0.178228</td>\n",
              "      <td>0.507757</td>\n",
              "      <td>-0.287924</td>\n",
              "      <td>-0.631418</td>\n",
              "      <td>-1.059647</td>\n",
              "      <td>-0.684093</td>\n",
              "      <td>1.965775</td>\n",
              "      <td>-1.232622</td>\n",
              "      <td>-0.208038</td>\n",
              "      <td>-0.108300</td>\n",
              "      <td>0.005274</td>\n",
              "      <td>-0.190321</td>\n",
              "      <td>-1.175575</td>\n",
              "      <td>0.647376</td>\n",
              "      <td>-0.221929</td>\n",
              "      <td>0.062723</td>\n",
              "      <td>0.061458</td>\n",
              "      <td>123.50</td>\n",
              "      <td>0.0</td>\n",
              "    </tr>\n",
              "    <tr>\n",
              "      <th>4</th>\n",
              "      <td>2</td>\n",
              "      <td>-1.158233</td>\n",
              "      <td>0.877737</td>\n",
              "      <td>1.548718</td>\n",
              "      <td>0.403034</td>\n",
              "      <td>-0.407193</td>\n",
              "      <td>0.095921</td>\n",
              "      <td>0.592941</td>\n",
              "      <td>-0.270533</td>\n",
              "      <td>0.817739</td>\n",
              "      <td>0.753074</td>\n",
              "      <td>-0.822843</td>\n",
              "      <td>0.538196</td>\n",
              "      <td>1.345852</td>\n",
              "      <td>-1.119670</td>\n",
              "      <td>0.175121</td>\n",
              "      <td>-0.451449</td>\n",
              "      <td>-0.237033</td>\n",
              "      <td>-0.038195</td>\n",
              "      <td>0.803487</td>\n",
              "      <td>0.408542</td>\n",
              "      <td>-0.009431</td>\n",
              "      <td>0.798278</td>\n",
              "      <td>-0.137458</td>\n",
              "      <td>0.141267</td>\n",
              "      <td>-0.206010</td>\n",
              "      <td>0.502292</td>\n",
              "      <td>0.219422</td>\n",
              "      <td>0.215153</td>\n",
              "      <td>69.99</td>\n",
              "      <td>0.0</td>\n",
              "    </tr>\n",
              "  </tbody>\n",
              "</table>\n",
              "</div>"
            ],
            "text/plain": [
              "   Time        V1        V2        V3  ...       V27       V28  Amount  Class\n",
              "0     0 -1.359807 -0.072781  2.536347  ...  0.133558 -0.021053  149.62    0.0\n",
              "1     0  1.191857  0.266151  0.166480  ... -0.008983  0.014724    2.69    0.0\n",
              "2     1 -1.358354 -1.340163  1.773209  ... -0.055353 -0.059752  378.66    0.0\n",
              "3     1 -0.966272 -0.185226  1.792993  ...  0.062723  0.061458  123.50    0.0\n",
              "4     2 -1.158233  0.877737  1.548718  ...  0.219422  0.215153   69.99    0.0\n",
              "\n",
              "[5 rows x 31 columns]"
            ]
          },
          "metadata": {},
          "execution_count": 7
        }
      ]
    },
    {
      "cell_type": "code",
      "metadata": {
        "colab": {
          "base_uri": "https://localhost:8080/",
          "height": 222
        },
        "id": "_ALT_Rt2kKTZ",
        "outputId": "c22ec4ed-68af-4803-c021-2a3017df863e"
      },
      "source": [
        "credit_card_data.tail()"
      ],
      "execution_count": 8,
      "outputs": [
        {
          "output_type": "execute_result",
          "data": {
            "text/html": [
              "<div>\n",
              "<style scoped>\n",
              "    .dataframe tbody tr th:only-of-type {\n",
              "        vertical-align: middle;\n",
              "    }\n",
              "\n",
              "    .dataframe tbody tr th {\n",
              "        vertical-align: top;\n",
              "    }\n",
              "\n",
              "    .dataframe thead th {\n",
              "        text-align: right;\n",
              "    }\n",
              "</style>\n",
              "<table border=\"1\" class=\"dataframe\">\n",
              "  <thead>\n",
              "    <tr style=\"text-align: right;\">\n",
              "      <th></th>\n",
              "      <th>Time</th>\n",
              "      <th>V1</th>\n",
              "      <th>V2</th>\n",
              "      <th>V3</th>\n",
              "      <th>V4</th>\n",
              "      <th>V5</th>\n",
              "      <th>V6</th>\n",
              "      <th>V7</th>\n",
              "      <th>V8</th>\n",
              "      <th>V9</th>\n",
              "      <th>V10</th>\n",
              "      <th>V11</th>\n",
              "      <th>V12</th>\n",
              "      <th>V13</th>\n",
              "      <th>V14</th>\n",
              "      <th>V15</th>\n",
              "      <th>V16</th>\n",
              "      <th>V17</th>\n",
              "      <th>V18</th>\n",
              "      <th>V19</th>\n",
              "      <th>V20</th>\n",
              "      <th>V21</th>\n",
              "      <th>V22</th>\n",
              "      <th>V23</th>\n",
              "      <th>V24</th>\n",
              "      <th>V25</th>\n",
              "      <th>V26</th>\n",
              "      <th>V27</th>\n",
              "      <th>V28</th>\n",
              "      <th>Amount</th>\n",
              "      <th>Class</th>\n",
              "    </tr>\n",
              "  </thead>\n",
              "  <tbody>\n",
              "    <tr>\n",
              "      <th>3968</th>\n",
              "      <td>3617</td>\n",
              "      <td>1.134592</td>\n",
              "      <td>0.252051</td>\n",
              "      <td>0.488592</td>\n",
              "      <td>0.799826</td>\n",
              "      <td>-0.264819</td>\n",
              "      <td>-0.369918</td>\n",
              "      <td>-0.243365</td>\n",
              "      <td>0.049761</td>\n",
              "      <td>1.210818</td>\n",
              "      <td>-0.501100</td>\n",
              "      <td>2.789156</td>\n",
              "      <td>-2.035185</td>\n",
              "      <td>0.591176</td>\n",
              "      <td>1.613227</td>\n",
              "      <td>0.019375</td>\n",
              "      <td>0.348997</td>\n",
              "      <td>0.893749</td>\n",
              "      <td>0.096402</td>\n",
              "      <td>-0.543187</td>\n",
              "      <td>-0.199251</td>\n",
              "      <td>-0.351115</td>\n",
              "      <td>-0.851463</td>\n",
              "      <td>0.186169</td>\n",
              "      <td>0.092463</td>\n",
              "      <td>0.020015</td>\n",
              "      <td>0.057976</td>\n",
              "      <td>-0.046611</td>\n",
              "      <td>0.012562</td>\n",
              "      <td>13.99</td>\n",
              "      <td>0.0</td>\n",
              "    </tr>\n",
              "    <tr>\n",
              "      <th>3969</th>\n",
              "      <td>3621</td>\n",
              "      <td>-1.338671</td>\n",
              "      <td>1.080974</td>\n",
              "      <td>1.291196</td>\n",
              "      <td>0.719258</td>\n",
              "      <td>0.101320</td>\n",
              "      <td>0.053896</td>\n",
              "      <td>0.001297</td>\n",
              "      <td>-0.917575</td>\n",
              "      <td>1.638510</td>\n",
              "      <td>-0.083752</td>\n",
              "      <td>0.397378</td>\n",
              "      <td>-2.275709</td>\n",
              "      <td>1.433890</td>\n",
              "      <td>1.221291</td>\n",
              "      <td>-0.528967</td>\n",
              "      <td>-0.995916</td>\n",
              "      <td>1.315311</td>\n",
              "      <td>-0.650093</td>\n",
              "      <td>0.446636</td>\n",
              "      <td>-0.314824</td>\n",
              "      <td>0.498030</td>\n",
              "      <td>-0.483932</td>\n",
              "      <td>0.037686</td>\n",
              "      <td>0.053566</td>\n",
              "      <td>-0.560078</td>\n",
              "      <td>0.230423</td>\n",
              "      <td>-0.119911</td>\n",
              "      <td>0.321847</td>\n",
              "      <td>27.43</td>\n",
              "      <td>0.0</td>\n",
              "    </tr>\n",
              "    <tr>\n",
              "      <th>3970</th>\n",
              "      <td>3622</td>\n",
              "      <td>-0.339728</td>\n",
              "      <td>-2.417449</td>\n",
              "      <td>0.975517</td>\n",
              "      <td>2.537995</td>\n",
              "      <td>-1.720361</td>\n",
              "      <td>0.863005</td>\n",
              "      <td>0.032965</td>\n",
              "      <td>0.026764</td>\n",
              "      <td>2.487139</td>\n",
              "      <td>-1.079488</td>\n",
              "      <td>0.262792</td>\n",
              "      <td>-1.235066</td>\n",
              "      <td>2.241108</td>\n",
              "      <td>0.642509</td>\n",
              "      <td>-1.753635</td>\n",
              "      <td>-0.839245</td>\n",
              "      <td>1.323968</td>\n",
              "      <td>-0.353540</td>\n",
              "      <td>-0.874715</td>\n",
              "      <td>1.264624</td>\n",
              "      <td>0.391639</td>\n",
              "      <td>0.264432</td>\n",
              "      <td>-0.735031</td>\n",
              "      <td>0.450594</td>\n",
              "      <td>0.310022</td>\n",
              "      <td>-0.231357</td>\n",
              "      <td>-0.049872</td>\n",
              "      <td>0.153526</td>\n",
              "      <td>730.32</td>\n",
              "      <td>0.0</td>\n",
              "    </tr>\n",
              "    <tr>\n",
              "      <th>3971</th>\n",
              "      <td>3623</td>\n",
              "      <td>-0.368639</td>\n",
              "      <td>0.947432</td>\n",
              "      <td>1.707755</td>\n",
              "      <td>0.932092</td>\n",
              "      <td>0.292956</td>\n",
              "      <td>0.189100</td>\n",
              "      <td>0.499330</td>\n",
              "      <td>0.132466</td>\n",
              "      <td>0.779412</td>\n",
              "      <td>-0.748898</td>\n",
              "      <td>2.099043</td>\n",
              "      <td>-1.647850</td>\n",
              "      <td>1.092476</td>\n",
              "      <td>1.638789</td>\n",
              "      <td>-1.734711</td>\n",
              "      <td>-0.694476</td>\n",
              "      <td>0.845449</td>\n",
              "      <td>-0.083660</td>\n",
              "      <td>-0.215575</td>\n",
              "      <td>-0.193784</td>\n",
              "      <td>-0.119045</td>\n",
              "      <td>0.056665</td>\n",
              "      <td>-0.172703</td>\n",
              "      <td>0.170073</td>\n",
              "      <td>0.139605</td>\n",
              "      <td>-0.420518</td>\n",
              "      <td>0.033794</td>\n",
              "      <td>0.005996</td>\n",
              "      <td>6.87</td>\n",
              "      <td>0.0</td>\n",
              "    </tr>\n",
              "    <tr>\n",
              "      <th>3972</th>\n",
              "      <td>3624</td>\n",
              "      <td>-0.663445</td>\n",
              "      <td>1.162921</td>\n",
              "      <td>1.508050</td>\n",
              "      <td>0.549405</td>\n",
              "      <td>0.231377</td>\n",
              "      <td>-0.106041</td>\n",
              "      <td>0.817977</td>\n",
              "      <td>-0.387026</td>\n",
              "      <td>1.488054</td>\n",
              "      <td>-0.039574</td>\n",
              "      <td>0.015481</td>\n",
              "      <td>-2.124375</td>\n",
              "      <td>2.601527</td>\n",
              "      <td>0.749741</td>\n",
              "      <td>-0.823889</td>\n",
              "      <td>-0.696315</td>\n",
              "      <td>0.654470</td>\n",
              "      <td>-0.187225</td>\n",
              "      <td>0.968769</td>\n",
              "      <td>0.343323</td>\n",
              "      <td>-0.420337</td>\n",
              "      <td>-0.361357</td>\n",
              "      <td>NaN</td>\n",
              "      <td>NaN</td>\n",
              "      <td>NaN</td>\n",
              "      <td>NaN</td>\n",
              "      <td>NaN</td>\n",
              "      <td>NaN</td>\n",
              "      <td>NaN</td>\n",
              "      <td>NaN</td>\n",
              "    </tr>\n",
              "  </tbody>\n",
              "</table>\n",
              "</div>"
            ],
            "text/plain": [
              "      Time        V1        V2        V3  ...       V27       V28  Amount  Class\n",
              "3968  3617  1.134592  0.252051  0.488592  ... -0.046611  0.012562   13.99    0.0\n",
              "3969  3621 -1.338671  1.080974  1.291196  ... -0.119911  0.321847   27.43    0.0\n",
              "3970  3622 -0.339728 -2.417449  0.975517  ... -0.049872  0.153526  730.32    0.0\n",
              "3971  3623 -0.368639  0.947432  1.707755  ...  0.033794  0.005996    6.87    0.0\n",
              "3972  3624 -0.663445  1.162921  1.508050  ...       NaN       NaN     NaN    NaN\n",
              "\n",
              "[5 rows x 31 columns]"
            ]
          },
          "metadata": {},
          "execution_count": 8
        }
      ]
    },
    {
      "cell_type": "code",
      "metadata": {
        "colab": {
          "base_uri": "https://localhost:8080/"
        },
        "id": "xfvz33ZVkMxv",
        "outputId": "b38739a1-1394-44f7-f872-ea81e89aafc4"
      },
      "source": [
        "credit_card_data.info()"
      ],
      "execution_count": 9,
      "outputs": [
        {
          "output_type": "stream",
          "name": "stdout",
          "text": [
            "<class 'pandas.core.frame.DataFrame'>\n",
            "RangeIndex: 3973 entries, 0 to 3972\n",
            "Data columns (total 31 columns):\n",
            " #   Column  Non-Null Count  Dtype  \n",
            "---  ------  --------------  -----  \n",
            " 0   Time    3973 non-null   int64  \n",
            " 1   V1      3973 non-null   float64\n",
            " 2   V2      3973 non-null   float64\n",
            " 3   V3      3973 non-null   float64\n",
            " 4   V4      3973 non-null   float64\n",
            " 5   V5      3973 non-null   float64\n",
            " 6   V6      3973 non-null   float64\n",
            " 7   V7      3973 non-null   float64\n",
            " 8   V8      3973 non-null   float64\n",
            " 9   V9      3973 non-null   float64\n",
            " 10  V10     3973 non-null   float64\n",
            " 11  V11     3973 non-null   float64\n",
            " 12  V12     3973 non-null   float64\n",
            " 13  V13     3973 non-null   float64\n",
            " 14  V14     3973 non-null   float64\n",
            " 15  V15     3973 non-null   float64\n",
            " 16  V16     3973 non-null   float64\n",
            " 17  V17     3973 non-null   float64\n",
            " 18  V18     3973 non-null   float64\n",
            " 19  V19     3973 non-null   float64\n",
            " 20  V20     3973 non-null   float64\n",
            " 21  V21     3973 non-null   float64\n",
            " 22  V22     3973 non-null   float64\n",
            " 23  V23     3972 non-null   float64\n",
            " 24  V24     3972 non-null   float64\n",
            " 25  V25     3972 non-null   float64\n",
            " 26  V26     3972 non-null   float64\n",
            " 27  V27     3972 non-null   float64\n",
            " 28  V28     3972 non-null   float64\n",
            " 29  Amount  3972 non-null   float64\n",
            " 30  Class   3972 non-null   float64\n",
            "dtypes: float64(30), int64(1)\n",
            "memory usage: 962.3 KB\n"
          ]
        }
      ]
    },
    {
      "cell_type": "code",
      "metadata": {
        "colab": {
          "base_uri": "https://localhost:8080/"
        },
        "id": "EPfBXglGkOYa",
        "outputId": "08db1390-9573-4bf5-b175-2bede2160c0f"
      },
      "source": [
        "# checking the number of missing values in each column\n",
        "credit_card_data.isnull().sum()"
      ],
      "execution_count": 10,
      "outputs": [
        {
          "output_type": "execute_result",
          "data": {
            "text/plain": [
              "Time      0\n",
              "V1        0\n",
              "V2        0\n",
              "V3        0\n",
              "V4        0\n",
              "V5        0\n",
              "V6        0\n",
              "V7        0\n",
              "V8        0\n",
              "V9        0\n",
              "V10       0\n",
              "V11       0\n",
              "V12       0\n",
              "V13       0\n",
              "V14       0\n",
              "V15       0\n",
              "V16       0\n",
              "V17       0\n",
              "V18       0\n",
              "V19       0\n",
              "V20       0\n",
              "V21       0\n",
              "V22       0\n",
              "V23       1\n",
              "V24       1\n",
              "V25       1\n",
              "V26       1\n",
              "V27       1\n",
              "V28       1\n",
              "Amount    1\n",
              "Class     1\n",
              "dtype: int64"
            ]
          },
          "metadata": {},
          "execution_count": 10
        }
      ]
    },
    {
      "cell_type": "code",
      "metadata": {
        "colab": {
          "base_uri": "https://localhost:8080/"
        },
        "id": "tb0muts_kRGW",
        "outputId": "3a7a0020-7985-4a31-9090-fbe912f3fea2"
      },
      "source": [
        "# distribution of legit transactions & fraudulent transactions\n",
        "credit_card_data['Class'].value_counts()"
      ],
      "execution_count": 11,
      "outputs": [
        {
          "output_type": "execute_result",
          "data": {
            "text/plain": [
              "0.0    3970\n",
              "1.0       2\n",
              "Name: Class, dtype: int64"
            ]
          },
          "metadata": {},
          "execution_count": 11
        }
      ]
    },
    {
      "cell_type": "code",
      "metadata": {
        "id": "uyZKL8RwkS_9"
      },
      "source": [
        "# separating the data for analysis\n",
        "legit = credit_card_data[credit_card_data.Class == 0]\n",
        "fraud = credit_card_data[credit_card_data.Class == 1]"
      ],
      "execution_count": 12,
      "outputs": []
    },
    {
      "cell_type": "code",
      "metadata": {
        "colab": {
          "base_uri": "https://localhost:8080/"
        },
        "id": "KYMT8A3ZkWve",
        "outputId": "da7cb8fd-7240-4135-c399-5fcb6151106a"
      },
      "source": [
        "print(legit.shape)\n",
        "print(fraud.shape)"
      ],
      "execution_count": 13,
      "outputs": [
        {
          "output_type": "stream",
          "name": "stdout",
          "text": [
            "(3970, 31)\n",
            "(2, 31)\n"
          ]
        }
      ]
    },
    {
      "cell_type": "code",
      "metadata": {
        "colab": {
          "base_uri": "https://localhost:8080/"
        },
        "id": "8160oYA5kX_1",
        "outputId": "5e9041dc-6b5d-467a-b606-1ca94318a41d"
      },
      "source": [
        "legit.Amount.describe()"
      ],
      "execution_count": 14,
      "outputs": [
        {
          "output_type": "execute_result",
          "data": {
            "text/plain": [
              "count    3970.000000\n",
              "mean       64.899597\n",
              "std       213.612570\n",
              "min         0.000000\n",
              "25%         2.270000\n",
              "50%        12.990000\n",
              "75%        54.990000\n",
              "max      7712.430000\n",
              "Name: Amount, dtype: float64"
            ]
          },
          "metadata": {},
          "execution_count": 14
        }
      ]
    },
    {
      "cell_type": "code",
      "metadata": {
        "colab": {
          "base_uri": "https://localhost:8080/"
        },
        "id": "K-LtBo0VkXvz",
        "outputId": "539c2c7b-3529-49bc-e570-3ea45208053a"
      },
      "source": [
        "fraud.Amount.describe()"
      ],
      "execution_count": 15,
      "outputs": [
        {
          "output_type": "execute_result",
          "data": {
            "text/plain": [
              "count      2.000000\n",
              "mean     264.500000\n",
              "std      374.059487\n",
              "min        0.000000\n",
              "25%      132.250000\n",
              "50%      264.500000\n",
              "75%      396.750000\n",
              "max      529.000000\n",
              "Name: Amount, dtype: float64"
            ]
          },
          "metadata": {},
          "execution_count": 15
        }
      ]
    },
    {
      "cell_type": "code",
      "metadata": {
        "colab": {
          "base_uri": "https://localhost:8080/",
          "height": 161
        },
        "id": "76wXQwDbkXaW",
        "outputId": "db367802-b8ff-455e-c60d-925d2ff119fa"
      },
      "source": [
        "credit_card_data.groupby('Class').mean()"
      ],
      "execution_count": 16,
      "outputs": [
        {
          "output_type": "execute_result",
          "data": {
            "text/html": [
              "<div>\n",
              "<style scoped>\n",
              "    .dataframe tbody tr th:only-of-type {\n",
              "        vertical-align: middle;\n",
              "    }\n",
              "\n",
              "    .dataframe tbody tr th {\n",
              "        vertical-align: top;\n",
              "    }\n",
              "\n",
              "    .dataframe thead th {\n",
              "        text-align: right;\n",
              "    }\n",
              "</style>\n",
              "<table border=\"1\" class=\"dataframe\">\n",
              "  <thead>\n",
              "    <tr style=\"text-align: right;\">\n",
              "      <th></th>\n",
              "      <th>Time</th>\n",
              "      <th>V1</th>\n",
              "      <th>V2</th>\n",
              "      <th>V3</th>\n",
              "      <th>V4</th>\n",
              "      <th>V5</th>\n",
              "      <th>V6</th>\n",
              "      <th>V7</th>\n",
              "      <th>V8</th>\n",
              "      <th>V9</th>\n",
              "      <th>V10</th>\n",
              "      <th>V11</th>\n",
              "      <th>V12</th>\n",
              "      <th>V13</th>\n",
              "      <th>V14</th>\n",
              "      <th>V15</th>\n",
              "      <th>V16</th>\n",
              "      <th>V17</th>\n",
              "      <th>V18</th>\n",
              "      <th>V19</th>\n",
              "      <th>V20</th>\n",
              "      <th>V21</th>\n",
              "      <th>V22</th>\n",
              "      <th>V23</th>\n",
              "      <th>V24</th>\n",
              "      <th>V25</th>\n",
              "      <th>V26</th>\n",
              "      <th>V27</th>\n",
              "      <th>V28</th>\n",
              "      <th>Amount</th>\n",
              "    </tr>\n",
              "    <tr>\n",
              "      <th>Class</th>\n",
              "      <th></th>\n",
              "      <th></th>\n",
              "      <th></th>\n",
              "      <th></th>\n",
              "      <th></th>\n",
              "      <th></th>\n",
              "      <th></th>\n",
              "      <th></th>\n",
              "      <th></th>\n",
              "      <th></th>\n",
              "      <th></th>\n",
              "      <th></th>\n",
              "      <th></th>\n",
              "      <th></th>\n",
              "      <th></th>\n",
              "      <th></th>\n",
              "      <th></th>\n",
              "      <th></th>\n",
              "      <th></th>\n",
              "      <th></th>\n",
              "      <th></th>\n",
              "      <th></th>\n",
              "      <th></th>\n",
              "      <th></th>\n",
              "      <th></th>\n",
              "      <th></th>\n",
              "      <th></th>\n",
              "      <th></th>\n",
              "      <th></th>\n",
              "      <th></th>\n",
              "    </tr>\n",
              "  </thead>\n",
              "  <tbody>\n",
              "    <tr>\n",
              "      <th>0.0</th>\n",
              "      <td>1638.828463</td>\n",
              "      <td>-0.332459</td>\n",
              "      <td>0.308935</td>\n",
              "      <td>0.837446</td>\n",
              "      <td>0.011432</td>\n",
              "      <td>-0.029468</td>\n",
              "      <td>0.053530</td>\n",
              "      <td>0.147357</td>\n",
              "      <td>-0.071642</td>\n",
              "      <td>0.056211</td>\n",
              "      <td>-0.056230</td>\n",
              "      <td>0.133069</td>\n",
              "      <td>0.288236</td>\n",
              "      <td>-0.146924</td>\n",
              "      <td>-0.094847</td>\n",
              "      <td>0.283598</td>\n",
              "      <td>-0.145376</td>\n",
              "      <td>-0.098337</td>\n",
              "      <td>-0.119984</td>\n",
              "      <td>0.031015</td>\n",
              "      <td>0.059567</td>\n",
              "      <td>0.010282</td>\n",
              "      <td>-0.082957</td>\n",
              "      <td>-0.058743</td>\n",
              "      <td>0.029114</td>\n",
              "      <td>0.095244</td>\n",
              "      <td>-0.012637</td>\n",
              "      <td>0.044658</td>\n",
              "      <td>0.002668</td>\n",
              "      <td>64.899597</td>\n",
              "    </tr>\n",
              "    <tr>\n",
              "      <th>1.0</th>\n",
              "      <td>439.000000</td>\n",
              "      <td>-2.677884</td>\n",
              "      <td>-0.602658</td>\n",
              "      <td>-0.260694</td>\n",
              "      <td>3.143275</td>\n",
              "      <td>0.418809</td>\n",
              "      <td>-1.245684</td>\n",
              "      <td>-1.105907</td>\n",
              "      <td>0.661932</td>\n",
              "      <td>-1.520521</td>\n",
              "      <td>-1.805429</td>\n",
              "      <td>1.393729</td>\n",
              "      <td>-1.701524</td>\n",
              "      <td>0.040640</td>\n",
              "      <td>-2.990641</td>\n",
              "      <td>1.195179</td>\n",
              "      <td>-0.236984</td>\n",
              "      <td>-1.115169</td>\n",
              "      <td>0.854249</td>\n",
              "      <td>0.350150</td>\n",
              "      <td>1.114625</td>\n",
              "      <td>0.589464</td>\n",
              "      <td>0.200214</td>\n",
              "      <td>0.455377</td>\n",
              "      <td>0.013198</td>\n",
              "      <td>0.162159</td>\n",
              "      <td>0.016239</td>\n",
              "      <td>0.004186</td>\n",
              "      <td>-0.053756</td>\n",
              "      <td>264.500000</td>\n",
              "    </tr>\n",
              "  </tbody>\n",
              "</table>\n",
              "</div>"
            ],
            "text/plain": [
              "              Time        V1        V2  ...       V27       V28      Amount\n",
              "Class                                   ...                                \n",
              "0.0    1638.828463 -0.332459  0.308935  ...  0.044658  0.002668   64.899597\n",
              "1.0     439.000000 -2.677884 -0.602658  ...  0.004186 -0.053756  264.500000\n",
              "\n",
              "[2 rows x 30 columns]"
            ]
          },
          "metadata": {},
          "execution_count": 16
        }
      ]
    },
    {
      "cell_type": "markdown",
      "metadata": {
        "id": "9o9uPJWHkgBR"
      },
      "source": [
        "Number of Fraudulent Transactions --> 492"
      ]
    },
    {
      "cell_type": "code",
      "metadata": {
        "id": "dUXMNjvwkfH-"
      },
      "source": [
        "legit_sample = legit.sample(n=492)"
      ],
      "execution_count": 17,
      "outputs": []
    },
    {
      "cell_type": "markdown",
      "metadata": {
        "id": "MPtUdBdJkofp"
      },
      "source": [
        "Concatenating two DataFrames"
      ]
    },
    {
      "cell_type": "code",
      "metadata": {
        "id": "DkQINMbxkpP4"
      },
      "source": [
        "new_dataset = pd.concat([legit_sample, fraud], axis=0)"
      ],
      "execution_count": 18,
      "outputs": []
    },
    {
      "cell_type": "code",
      "metadata": {
        "colab": {
          "base_uri": "https://localhost:8080/",
          "height": 222
        },
        "id": "-wJYBddnksIF",
        "outputId": "43b0dc2a-8e29-45c3-cb42-a6847010078c"
      },
      "source": [
        "new_dataset.head()"
      ],
      "execution_count": 19,
      "outputs": [
        {
          "output_type": "execute_result",
          "data": {
            "text/html": [
              "<div>\n",
              "<style scoped>\n",
              "    .dataframe tbody tr th:only-of-type {\n",
              "        vertical-align: middle;\n",
              "    }\n",
              "\n",
              "    .dataframe tbody tr th {\n",
              "        vertical-align: top;\n",
              "    }\n",
              "\n",
              "    .dataframe thead th {\n",
              "        text-align: right;\n",
              "    }\n",
              "</style>\n",
              "<table border=\"1\" class=\"dataframe\">\n",
              "  <thead>\n",
              "    <tr style=\"text-align: right;\">\n",
              "      <th></th>\n",
              "      <th>Time</th>\n",
              "      <th>V1</th>\n",
              "      <th>V2</th>\n",
              "      <th>V3</th>\n",
              "      <th>V4</th>\n",
              "      <th>V5</th>\n",
              "      <th>V6</th>\n",
              "      <th>V7</th>\n",
              "      <th>V8</th>\n",
              "      <th>V9</th>\n",
              "      <th>V10</th>\n",
              "      <th>V11</th>\n",
              "      <th>V12</th>\n",
              "      <th>V13</th>\n",
              "      <th>V14</th>\n",
              "      <th>V15</th>\n",
              "      <th>V16</th>\n",
              "      <th>V17</th>\n",
              "      <th>V18</th>\n",
              "      <th>V19</th>\n",
              "      <th>V20</th>\n",
              "      <th>V21</th>\n",
              "      <th>V22</th>\n",
              "      <th>V23</th>\n",
              "      <th>V24</th>\n",
              "      <th>V25</th>\n",
              "      <th>V26</th>\n",
              "      <th>V27</th>\n",
              "      <th>V28</th>\n",
              "      <th>Amount</th>\n",
              "      <th>Class</th>\n",
              "    </tr>\n",
              "  </thead>\n",
              "  <tbody>\n",
              "    <tr>\n",
              "      <th>427</th>\n",
              "      <td>310</td>\n",
              "      <td>-1.236351</td>\n",
              "      <td>-0.687029</td>\n",
              "      <td>2.093407</td>\n",
              "      <td>0.601217</td>\n",
              "      <td>0.782303</td>\n",
              "      <td>-1.167113</td>\n",
              "      <td>-0.675395</td>\n",
              "      <td>0.232563</td>\n",
              "      <td>0.500531</td>\n",
              "      <td>-0.565374</td>\n",
              "      <td>-1.050192</td>\n",
              "      <td>0.091748</td>\n",
              "      <td>-0.198063</td>\n",
              "      <td>-0.277611</td>\n",
              "      <td>-0.042639</td>\n",
              "      <td>0.357375</td>\n",
              "      <td>-0.653671</td>\n",
              "      <td>0.382050</td>\n",
              "      <td>-0.975039</td>\n",
              "      <td>0.129688</td>\n",
              "      <td>0.378832</td>\n",
              "      <td>0.841499</td>\n",
              "      <td>0.150103</td>\n",
              "      <td>0.391760</td>\n",
              "      <td>-0.542331</td>\n",
              "      <td>-0.531517</td>\n",
              "      <td>0.186280</td>\n",
              "      <td>0.230012</td>\n",
              "      <td>7.80</td>\n",
              "      <td>0.0</td>\n",
              "    </tr>\n",
              "    <tr>\n",
              "      <th>826</th>\n",
              "      <td>631</td>\n",
              "      <td>-1.058931</td>\n",
              "      <td>0.114078</td>\n",
              "      <td>1.485337</td>\n",
              "      <td>0.534704</td>\n",
              "      <td>0.754275</td>\n",
              "      <td>-0.496412</td>\n",
              "      <td>0.580912</td>\n",
              "      <td>0.143711</td>\n",
              "      <td>-0.079362</td>\n",
              "      <td>-0.741373</td>\n",
              "      <td>-0.968240</td>\n",
              "      <td>-0.250370</td>\n",
              "      <td>-1.211700</td>\n",
              "      <td>0.161283</td>\n",
              "      <td>-0.606521</td>\n",
              "      <td>-0.551640</td>\n",
              "      <td>0.088074</td>\n",
              "      <td>-0.716170</td>\n",
              "      <td>-0.862827</td>\n",
              "      <td>-0.014561</td>\n",
              "      <td>0.067737</td>\n",
              "      <td>0.056591</td>\n",
              "      <td>0.032287</td>\n",
              "      <td>0.035178</td>\n",
              "      <td>0.098192</td>\n",
              "      <td>-0.489207</td>\n",
              "      <td>0.090101</td>\n",
              "      <td>0.137386</td>\n",
              "      <td>57.64</td>\n",
              "      <td>0.0</td>\n",
              "    </tr>\n",
              "    <tr>\n",
              "      <th>1951</th>\n",
              "      <td>1504</td>\n",
              "      <td>-1.026082</td>\n",
              "      <td>1.344535</td>\n",
              "      <td>1.364817</td>\n",
              "      <td>-0.707748</td>\n",
              "      <td>-0.064382</td>\n",
              "      <td>-0.720407</td>\n",
              "      <td>0.558181</td>\n",
              "      <td>-0.882456</td>\n",
              "      <td>0.108784</td>\n",
              "      <td>-0.314538</td>\n",
              "      <td>-0.539605</td>\n",
              "      <td>0.707116</td>\n",
              "      <td>0.820634</td>\n",
              "      <td>-0.347843</td>\n",
              "      <td>-0.407726</td>\n",
              "      <td>-0.068915</td>\n",
              "      <td>-0.292764</td>\n",
              "      <td>-0.707721</td>\n",
              "      <td>-0.275505</td>\n",
              "      <td>0.038237</td>\n",
              "      <td>0.550390</td>\n",
              "      <td>-0.580493</td>\n",
              "      <td>0.022288</td>\n",
              "      <td>0.425627</td>\n",
              "      <td>-0.114143</td>\n",
              "      <td>0.300114</td>\n",
              "      <td>0.451212</td>\n",
              "      <td>0.251131</td>\n",
              "      <td>5.00</td>\n",
              "      <td>0.0</td>\n",
              "    </tr>\n",
              "    <tr>\n",
              "      <th>1573</th>\n",
              "      <td>1230</td>\n",
              "      <td>1.334329</td>\n",
              "      <td>0.407315</td>\n",
              "      <td>-0.481604</td>\n",
              "      <td>0.922526</td>\n",
              "      <td>0.352180</td>\n",
              "      <td>-0.745359</td>\n",
              "      <td>0.469484</td>\n",
              "      <td>-0.248350</td>\n",
              "      <td>-0.073102</td>\n",
              "      <td>0.075403</td>\n",
              "      <td>-1.277669</td>\n",
              "      <td>-0.579683</td>\n",
              "      <td>-0.835145</td>\n",
              "      <td>0.708602</td>\n",
              "      <td>0.849786</td>\n",
              "      <td>0.072777</td>\n",
              "      <td>-0.560883</td>\n",
              "      <td>0.022440</td>\n",
              "      <td>0.069100</td>\n",
              "      <td>-0.190453</td>\n",
              "      <td>-0.063048</td>\n",
              "      <td>-0.166955</td>\n",
              "      <td>-0.238137</td>\n",
              "      <td>-0.474016</td>\n",
              "      <td>0.930935</td>\n",
              "      <td>-0.240583</td>\n",
              "      <td>-0.015403</td>\n",
              "      <td>0.000296</td>\n",
              "      <td>1.99</td>\n",
              "      <td>0.0</td>\n",
              "    </tr>\n",
              "    <tr>\n",
              "      <th>2084</th>\n",
              "      <td>1607</td>\n",
              "      <td>1.322146</td>\n",
              "      <td>-1.362007</td>\n",
              "      <td>0.035150</td>\n",
              "      <td>-1.194412</td>\n",
              "      <td>0.506479</td>\n",
              "      <td>4.490399</td>\n",
              "      <td>-2.047060</td>\n",
              "      <td>1.228523</td>\n",
              "      <td>0.638672</td>\n",
              "      <td>0.302415</td>\n",
              "      <td>-1.306825</td>\n",
              "      <td>0.304283</td>\n",
              "      <td>0.064182</td>\n",
              "      <td>-1.133122</td>\n",
              "      <td>-1.509972</td>\n",
              "      <td>-1.674883</td>\n",
              "      <td>0.270419</td>\n",
              "      <td>1.134219</td>\n",
              "      <td>0.276652</td>\n",
              "      <td>-0.382482</td>\n",
              "      <td>-0.601266</td>\n",
              "      <td>-0.930808</td>\n",
              "      <td>0.038233</td>\n",
              "      <td>1.069372</td>\n",
              "      <td>0.303423</td>\n",
              "      <td>1.089495</td>\n",
              "      <td>0.028291</td>\n",
              "      <td>0.014662</td>\n",
              "      <td>10.00</td>\n",
              "      <td>0.0</td>\n",
              "    </tr>\n",
              "  </tbody>\n",
              "</table>\n",
              "</div>"
            ],
            "text/plain": [
              "      Time        V1        V2        V3  ...       V27       V28  Amount  Class\n",
              "427    310 -1.236351 -0.687029  2.093407  ...  0.186280  0.230012    7.80    0.0\n",
              "826    631 -1.058931  0.114078  1.485337  ...  0.090101  0.137386   57.64    0.0\n",
              "1951  1504 -1.026082  1.344535  1.364817  ...  0.451212  0.251131    5.00    0.0\n",
              "1573  1230  1.334329  0.407315 -0.481604  ... -0.015403  0.000296    1.99    0.0\n",
              "2084  1607  1.322146 -1.362007  0.035150  ...  0.028291  0.014662   10.00    0.0\n",
              "\n",
              "[5 rows x 31 columns]"
            ]
          },
          "metadata": {},
          "execution_count": 19
        }
      ]
    },
    {
      "cell_type": "code",
      "metadata": {
        "colab": {
          "base_uri": "https://localhost:8080/",
          "height": 222
        },
        "id": "iagL1Z5Wksl5",
        "outputId": "9f5a6bed-0014-43bd-a335-0bff230c41b1"
      },
      "source": [
        "new_dataset.tail()"
      ],
      "execution_count": 20,
      "outputs": [
        {
          "output_type": "execute_result",
          "data": {
            "text/html": [
              "<div>\n",
              "<style scoped>\n",
              "    .dataframe tbody tr th:only-of-type {\n",
              "        vertical-align: middle;\n",
              "    }\n",
              "\n",
              "    .dataframe tbody tr th {\n",
              "        vertical-align: top;\n",
              "    }\n",
              "\n",
              "    .dataframe thead th {\n",
              "        text-align: right;\n",
              "    }\n",
              "</style>\n",
              "<table border=\"1\" class=\"dataframe\">\n",
              "  <thead>\n",
              "    <tr style=\"text-align: right;\">\n",
              "      <th></th>\n",
              "      <th>Time</th>\n",
              "      <th>V1</th>\n",
              "      <th>V2</th>\n",
              "      <th>V3</th>\n",
              "      <th>V4</th>\n",
              "      <th>V5</th>\n",
              "      <th>V6</th>\n",
              "      <th>V7</th>\n",
              "      <th>V8</th>\n",
              "      <th>V9</th>\n",
              "      <th>V10</th>\n",
              "      <th>V11</th>\n",
              "      <th>V12</th>\n",
              "      <th>V13</th>\n",
              "      <th>V14</th>\n",
              "      <th>V15</th>\n",
              "      <th>V16</th>\n",
              "      <th>V17</th>\n",
              "      <th>V18</th>\n",
              "      <th>V19</th>\n",
              "      <th>V20</th>\n",
              "      <th>V21</th>\n",
              "      <th>V22</th>\n",
              "      <th>V23</th>\n",
              "      <th>V24</th>\n",
              "      <th>V25</th>\n",
              "      <th>V26</th>\n",
              "      <th>V27</th>\n",
              "      <th>V28</th>\n",
              "      <th>Amount</th>\n",
              "      <th>Class</th>\n",
              "    </tr>\n",
              "  </thead>\n",
              "  <tbody>\n",
              "    <tr>\n",
              "      <th>1075</th>\n",
              "      <td>822</td>\n",
              "      <td>0.860733</td>\n",
              "      <td>-0.802727</td>\n",
              "      <td>1.105443</td>\n",
              "      <td>0.390424</td>\n",
              "      <td>-1.244680</td>\n",
              "      <td>-0.037190</td>\n",
              "      <td>-0.468192</td>\n",
              "      <td>0.083195</td>\n",
              "      <td>1.032531</td>\n",
              "      <td>-0.590352</td>\n",
              "      <td>-0.131767</td>\n",
              "      <td>1.231443</td>\n",
              "      <td>0.780181</td>\n",
              "      <td>-0.644361</td>\n",
              "      <td>-0.151085</td>\n",
              "      <td>-0.529319</td>\n",
              "      <td>0.497742</td>\n",
              "      <td>-1.270436</td>\n",
              "      <td>-0.069039</td>\n",
              "      <td>0.234768</td>\n",
              "      <td>-0.085445</td>\n",
              "      <td>-0.244728</td>\n",
              "      <td>0.009459</td>\n",
              "      <td>0.505358</td>\n",
              "      <td>-0.005593</td>\n",
              "      <td>0.933611</td>\n",
              "      <td>-0.038996</td>\n",
              "      <td>0.041718</td>\n",
              "      <td>156.04</td>\n",
              "      <td>0.0</td>\n",
              "    </tr>\n",
              "    <tr>\n",
              "      <th>3241</th>\n",
              "      <td>2801</td>\n",
              "      <td>-0.414921</td>\n",
              "      <td>0.723422</td>\n",
              "      <td>1.224416</td>\n",
              "      <td>-2.109555</td>\n",
              "      <td>0.199364</td>\n",
              "      <td>-1.278338</td>\n",
              "      <td>1.127896</td>\n",
              "      <td>-0.353154</td>\n",
              "      <td>0.442610</td>\n",
              "      <td>-1.003923</td>\n",
              "      <td>1.672298</td>\n",
              "      <td>1.392440</td>\n",
              "      <td>0.437687</td>\n",
              "      <td>0.134394</td>\n",
              "      <td>0.083192</td>\n",
              "      <td>-0.480484</td>\n",
              "      <td>-0.791177</td>\n",
              "      <td>0.376068</td>\n",
              "      <td>0.106033</td>\n",
              "      <td>0.084206</td>\n",
              "      <td>0.134470</td>\n",
              "      <td>0.768223</td>\n",
              "      <td>-0.292542</td>\n",
              "      <td>0.562503</td>\n",
              "      <td>0.042026</td>\n",
              "      <td>-0.872151</td>\n",
              "      <td>0.240382</td>\n",
              "      <td>-0.020126</td>\n",
              "      <td>1.00</td>\n",
              "      <td>0.0</td>\n",
              "    </tr>\n",
              "    <tr>\n",
              "      <th>614</th>\n",
              "      <td>463</td>\n",
              "      <td>1.298898</td>\n",
              "      <td>-1.050674</td>\n",
              "      <td>-0.301587</td>\n",
              "      <td>-2.698140</td>\n",
              "      <td>-1.081625</td>\n",
              "      <td>-0.983307</td>\n",
              "      <td>-0.365931</td>\n",
              "      <td>-0.099132</td>\n",
              "      <td>0.618335</td>\n",
              "      <td>-0.605325</td>\n",
              "      <td>1.459086</td>\n",
              "      <td>1.006454</td>\n",
              "      <td>-0.967428</td>\n",
              "      <td>0.627582</td>\n",
              "      <td>0.558910</td>\n",
              "      <td>-3.139269</td>\n",
              "      <td>0.712543</td>\n",
              "      <td>1.216328</td>\n",
              "      <td>0.454500</td>\n",
              "      <td>-0.551491</td>\n",
              "      <td>-0.270855</td>\n",
              "      <td>-0.123874</td>\n",
              "      <td>-0.113170</td>\n",
              "      <td>0.224146</td>\n",
              "      <td>0.729243</td>\n",
              "      <td>-0.658224</td>\n",
              "      <td>0.073130</td>\n",
              "      <td>0.006890</td>\n",
              "      <td>37.57</td>\n",
              "      <td>0.0</td>\n",
              "    </tr>\n",
              "    <tr>\n",
              "      <th>541</th>\n",
              "      <td>406</td>\n",
              "      <td>-2.312227</td>\n",
              "      <td>1.951992</td>\n",
              "      <td>-1.609851</td>\n",
              "      <td>3.997906</td>\n",
              "      <td>-0.522188</td>\n",
              "      <td>-1.426545</td>\n",
              "      <td>-2.537387</td>\n",
              "      <td>1.391657</td>\n",
              "      <td>-2.770089</td>\n",
              "      <td>-2.772272</td>\n",
              "      <td>3.202033</td>\n",
              "      <td>-2.899907</td>\n",
              "      <td>-0.595222</td>\n",
              "      <td>-4.289254</td>\n",
              "      <td>0.389724</td>\n",
              "      <td>-1.140747</td>\n",
              "      <td>-2.830056</td>\n",
              "      <td>-0.016822</td>\n",
              "      <td>0.416956</td>\n",
              "      <td>0.126911</td>\n",
              "      <td>0.517232</td>\n",
              "      <td>-0.035049</td>\n",
              "      <td>-0.465211</td>\n",
              "      <td>0.320198</td>\n",
              "      <td>0.044519</td>\n",
              "      <td>0.177840</td>\n",
              "      <td>0.261145</td>\n",
              "      <td>-0.143276</td>\n",
              "      <td>0.00</td>\n",
              "      <td>1.0</td>\n",
              "    </tr>\n",
              "    <tr>\n",
              "      <th>623</th>\n",
              "      <td>472</td>\n",
              "      <td>-3.043541</td>\n",
              "      <td>-3.157307</td>\n",
              "      <td>1.088463</td>\n",
              "      <td>2.288644</td>\n",
              "      <td>1.359805</td>\n",
              "      <td>-1.064823</td>\n",
              "      <td>0.325574</td>\n",
              "      <td>-0.067794</td>\n",
              "      <td>-0.270953</td>\n",
              "      <td>-0.838587</td>\n",
              "      <td>-0.414575</td>\n",
              "      <td>-0.503141</td>\n",
              "      <td>0.676502</td>\n",
              "      <td>-1.692029</td>\n",
              "      <td>2.000635</td>\n",
              "      <td>0.666780</td>\n",
              "      <td>0.599717</td>\n",
              "      <td>1.725321</td>\n",
              "      <td>0.283345</td>\n",
              "      <td>2.102339</td>\n",
              "      <td>0.661696</td>\n",
              "      <td>0.435477</td>\n",
              "      <td>1.375966</td>\n",
              "      <td>-0.293803</td>\n",
              "      <td>0.279798</td>\n",
              "      <td>-0.145362</td>\n",
              "      <td>-0.252773</td>\n",
              "      <td>0.035764</td>\n",
              "      <td>529.00</td>\n",
              "      <td>1.0</td>\n",
              "    </tr>\n",
              "  </tbody>\n",
              "</table>\n",
              "</div>"
            ],
            "text/plain": [
              "      Time        V1        V2        V3  ...       V27       V28  Amount  Class\n",
              "1075   822  0.860733 -0.802727  1.105443  ... -0.038996  0.041718  156.04    0.0\n",
              "3241  2801 -0.414921  0.723422  1.224416  ...  0.240382 -0.020126    1.00    0.0\n",
              "614    463  1.298898 -1.050674 -0.301587  ...  0.073130  0.006890   37.57    0.0\n",
              "541    406 -2.312227  1.951992 -1.609851  ...  0.261145 -0.143276    0.00    1.0\n",
              "623    472 -3.043541 -3.157307  1.088463  ... -0.252773  0.035764  529.00    1.0\n",
              "\n",
              "[5 rows x 31 columns]"
            ]
          },
          "metadata": {},
          "execution_count": 20
        }
      ]
    },
    {
      "cell_type": "code",
      "metadata": {
        "colab": {
          "base_uri": "https://localhost:8080/"
        },
        "id": "BAs1e5nrkvVq",
        "outputId": "043a28c4-c07c-4b4f-8b08-f495bedee28c"
      },
      "source": [
        "new_dataset['Class'].value_counts()"
      ],
      "execution_count": 21,
      "outputs": [
        {
          "output_type": "execute_result",
          "data": {
            "text/plain": [
              "0.0    492\n",
              "1.0      2\n",
              "Name: Class, dtype: int64"
            ]
          },
          "metadata": {},
          "execution_count": 21
        }
      ]
    },
    {
      "cell_type": "code",
      "metadata": {
        "colab": {
          "base_uri": "https://localhost:8080/",
          "height": 161
        },
        "id": "gNcEP4BZkxNu",
        "outputId": "726055fb-13c6-4fcb-aafc-b10df2dadbb1"
      },
      "source": [
        "new_dataset.groupby('Class').mean()"
      ],
      "execution_count": 22,
      "outputs": [
        {
          "output_type": "execute_result",
          "data": {
            "text/html": [
              "<div>\n",
              "<style scoped>\n",
              "    .dataframe tbody tr th:only-of-type {\n",
              "        vertical-align: middle;\n",
              "    }\n",
              "\n",
              "    .dataframe tbody tr th {\n",
              "        vertical-align: top;\n",
              "    }\n",
              "\n",
              "    .dataframe thead th {\n",
              "        text-align: right;\n",
              "    }\n",
              "</style>\n",
              "<table border=\"1\" class=\"dataframe\">\n",
              "  <thead>\n",
              "    <tr style=\"text-align: right;\">\n",
              "      <th></th>\n",
              "      <th>Time</th>\n",
              "      <th>V1</th>\n",
              "      <th>V2</th>\n",
              "      <th>V3</th>\n",
              "      <th>V4</th>\n",
              "      <th>V5</th>\n",
              "      <th>V6</th>\n",
              "      <th>V7</th>\n",
              "      <th>V8</th>\n",
              "      <th>V9</th>\n",
              "      <th>V10</th>\n",
              "      <th>V11</th>\n",
              "      <th>V12</th>\n",
              "      <th>V13</th>\n",
              "      <th>V14</th>\n",
              "      <th>V15</th>\n",
              "      <th>V16</th>\n",
              "      <th>V17</th>\n",
              "      <th>V18</th>\n",
              "      <th>V19</th>\n",
              "      <th>V20</th>\n",
              "      <th>V21</th>\n",
              "      <th>V22</th>\n",
              "      <th>V23</th>\n",
              "      <th>V24</th>\n",
              "      <th>V25</th>\n",
              "      <th>V26</th>\n",
              "      <th>V27</th>\n",
              "      <th>V28</th>\n",
              "      <th>Amount</th>\n",
              "    </tr>\n",
              "    <tr>\n",
              "      <th>Class</th>\n",
              "      <th></th>\n",
              "      <th></th>\n",
              "      <th></th>\n",
              "      <th></th>\n",
              "      <th></th>\n",
              "      <th></th>\n",
              "      <th></th>\n",
              "      <th></th>\n",
              "      <th></th>\n",
              "      <th></th>\n",
              "      <th></th>\n",
              "      <th></th>\n",
              "      <th></th>\n",
              "      <th></th>\n",
              "      <th></th>\n",
              "      <th></th>\n",
              "      <th></th>\n",
              "      <th></th>\n",
              "      <th></th>\n",
              "      <th></th>\n",
              "      <th></th>\n",
              "      <th></th>\n",
              "      <th></th>\n",
              "      <th></th>\n",
              "      <th></th>\n",
              "      <th></th>\n",
              "      <th></th>\n",
              "      <th></th>\n",
              "      <th></th>\n",
              "      <th></th>\n",
              "    </tr>\n",
              "  </thead>\n",
              "  <tbody>\n",
              "    <tr>\n",
              "      <th>0.0</th>\n",
              "      <td>1619.776423</td>\n",
              "      <td>-0.269521</td>\n",
              "      <td>0.287248</td>\n",
              "      <td>0.913694</td>\n",
              "      <td>0.072379</td>\n",
              "      <td>-0.107800</td>\n",
              "      <td>0.041201</td>\n",
              "      <td>0.063940</td>\n",
              "      <td>-0.075652</td>\n",
              "      <td>0.044602</td>\n",
              "      <td>-0.080916</td>\n",
              "      <td>0.164655</td>\n",
              "      <td>0.358614</td>\n",
              "      <td>-0.106005</td>\n",
              "      <td>-0.084161</td>\n",
              "      <td>0.218950</td>\n",
              "      <td>-0.171908</td>\n",
              "      <td>-0.105269</td>\n",
              "      <td>-0.101111</td>\n",
              "      <td>0.026137</td>\n",
              "      <td>0.035523</td>\n",
              "      <td>0.072382</td>\n",
              "      <td>-0.103327</td>\n",
              "      <td>-0.077662</td>\n",
              "      <td>0.025899</td>\n",
              "      <td>0.088192</td>\n",
              "      <td>0.038309</td>\n",
              "      <td>0.033773</td>\n",
              "      <td>0.002659</td>\n",
              "      <td>64.683882</td>\n",
              "    </tr>\n",
              "    <tr>\n",
              "      <th>1.0</th>\n",
              "      <td>439.000000</td>\n",
              "      <td>-2.677884</td>\n",
              "      <td>-0.602658</td>\n",
              "      <td>-0.260694</td>\n",
              "      <td>3.143275</td>\n",
              "      <td>0.418809</td>\n",
              "      <td>-1.245684</td>\n",
              "      <td>-1.105907</td>\n",
              "      <td>0.661932</td>\n",
              "      <td>-1.520521</td>\n",
              "      <td>-1.805429</td>\n",
              "      <td>1.393729</td>\n",
              "      <td>-1.701524</td>\n",
              "      <td>0.040640</td>\n",
              "      <td>-2.990641</td>\n",
              "      <td>1.195179</td>\n",
              "      <td>-0.236984</td>\n",
              "      <td>-1.115169</td>\n",
              "      <td>0.854249</td>\n",
              "      <td>0.350150</td>\n",
              "      <td>1.114625</td>\n",
              "      <td>0.589464</td>\n",
              "      <td>0.200214</td>\n",
              "      <td>0.455377</td>\n",
              "      <td>0.013198</td>\n",
              "      <td>0.162159</td>\n",
              "      <td>0.016239</td>\n",
              "      <td>0.004186</td>\n",
              "      <td>-0.053756</td>\n",
              "      <td>264.500000</td>\n",
              "    </tr>\n",
              "  </tbody>\n",
              "</table>\n",
              "</div>"
            ],
            "text/plain": [
              "              Time        V1        V2  ...       V27       V28      Amount\n",
              "Class                                   ...                                \n",
              "0.0    1619.776423 -0.269521  0.287248  ...  0.033773  0.002659   64.683882\n",
              "1.0     439.000000 -2.677884 -0.602658  ...  0.004186 -0.053756  264.500000\n",
              "\n",
              "[2 rows x 30 columns]"
            ]
          },
          "metadata": {},
          "execution_count": 22
        }
      ]
    },
    {
      "cell_type": "markdown",
      "metadata": {
        "id": "pBg8puupky8Z"
      },
      "source": [
        "Splitting the data into Features & Targets"
      ]
    },
    {
      "cell_type": "code",
      "metadata": {
        "id": "xDBH2csSk0Ga"
      },
      "source": [
        "X = new_dataset.drop(columns='Class', axis=1)\n",
        "Y = new_dataset['Class']"
      ],
      "execution_count": 23,
      "outputs": []
    },
    {
      "cell_type": "code",
      "metadata": {
        "colab": {
          "base_uri": "https://localhost:8080/"
        },
        "id": "KeatG_cAk5ii",
        "outputId": "708d700f-9190-4c91-c0b1-be20194069c8"
      },
      "source": [
        "print(X)"
      ],
      "execution_count": 24,
      "outputs": [
        {
          "output_type": "stream",
          "name": "stdout",
          "text": [
            "      Time        V1        V2        V3  ...       V26       V27       V28  Amount\n",
            "427    310 -1.236351 -0.687029  2.093407  ... -0.531517  0.186280  0.230012    7.80\n",
            "826    631 -1.058931  0.114078  1.485337  ... -0.489207  0.090101  0.137386   57.64\n",
            "1951  1504 -1.026082  1.344535  1.364817  ...  0.300114  0.451212  0.251131    5.00\n",
            "1573  1230  1.334329  0.407315 -0.481604  ... -0.240583 -0.015403  0.000296    1.99\n",
            "2084  1607  1.322146 -1.362007  0.035150  ...  1.089495  0.028291  0.014662   10.00\n",
            "...    ...       ...       ...       ...  ...       ...       ...       ...     ...\n",
            "1075   822  0.860733 -0.802727  1.105443  ...  0.933611 -0.038996  0.041718  156.04\n",
            "3241  2801 -0.414921  0.723422  1.224416  ... -0.872151  0.240382 -0.020126    1.00\n",
            "614    463  1.298898 -1.050674 -0.301587  ... -0.658224  0.073130  0.006890   37.57\n",
            "541    406 -2.312227  1.951992 -1.609851  ...  0.177840  0.261145 -0.143276    0.00\n",
            "623    472 -3.043541 -3.157307  1.088463  ... -0.145362 -0.252773  0.035764  529.00\n",
            "\n",
            "[494 rows x 30 columns]\n"
          ]
        }
      ]
    },
    {
      "cell_type": "code",
      "metadata": {
        "colab": {
          "base_uri": "https://localhost:8080/"
        },
        "id": "pIyOeipek7Pn",
        "outputId": "b0060764-ace4-4e5f-8ffd-3540ae2a1613"
      },
      "source": [
        "print(Y)"
      ],
      "execution_count": 25,
      "outputs": [
        {
          "output_type": "stream",
          "name": "stdout",
          "text": [
            "427     0.0\n",
            "826     0.0\n",
            "1951    0.0\n",
            "1573    0.0\n",
            "2084    0.0\n",
            "       ... \n",
            "1075    0.0\n",
            "3241    0.0\n",
            "614     0.0\n",
            "541     1.0\n",
            "623     1.0\n",
            "Name: Class, Length: 494, dtype: float64\n"
          ]
        }
      ]
    },
    {
      "cell_type": "markdown",
      "metadata": {
        "id": "zEFbLi9nk9zu"
      },
      "source": [
        "Split the data into Training data & Testing Data"
      ]
    },
    {
      "cell_type": "code",
      "metadata": {
        "id": "-jNEFNdNk-cu"
      },
      "source": [
        "X_train, X_test, Y_train, Y_test = train_test_split(X, Y, test_size=0.2, stratify=Y, random_state=2)"
      ],
      "execution_count": 26,
      "outputs": []
    },
    {
      "cell_type": "code",
      "metadata": {
        "colab": {
          "base_uri": "https://localhost:8080/"
        },
        "id": "JT9j9S3UlBox",
        "outputId": "66d8cecf-267d-4bf4-84c3-80d9896f9979"
      },
      "source": [
        "print(X.shape, X_train.shape, X_test.shape)"
      ],
      "execution_count": 27,
      "outputs": [
        {
          "output_type": "stream",
          "name": "stdout",
          "text": [
            "(494, 30) (395, 30) (99, 30)\n"
          ]
        }
      ]
    },
    {
      "cell_type": "markdown",
      "metadata": {
        "id": "pM95Dc45lDxK"
      },
      "source": [
        "Model Training\n",
        "\n",
        "Logistic Regression"
      ]
    },
    {
      "cell_type": "code",
      "metadata": {
        "id": "43GtBGYFlCI6"
      },
      "source": [
        "model = LogisticRegression()"
      ],
      "execution_count": 28,
      "outputs": []
    },
    {
      "cell_type": "code",
      "metadata": {
        "colab": {
          "base_uri": "https://localhost:8080/"
        },
        "id": "unQWXmpdlMFl",
        "outputId": "154bda8c-0100-41b8-904e-b58716df91d6"
      },
      "source": [
        "model.fit(X_train, Y_train)"
      ],
      "execution_count": 29,
      "outputs": [
        {
          "output_type": "stream",
          "name": "stderr",
          "text": [
            "/usr/local/lib/python3.7/dist-packages/sklearn/linear_model/_logistic.py:940: ConvergenceWarning: lbfgs failed to converge (status=1):\n",
            "STOP: TOTAL NO. of ITERATIONS REACHED LIMIT.\n",
            "\n",
            "Increase the number of iterations (max_iter) or scale the data as shown in:\n",
            "    https://scikit-learn.org/stable/modules/preprocessing.html\n",
            "Please also refer to the documentation for alternative solver options:\n",
            "    https://scikit-learn.org/stable/modules/linear_model.html#logistic-regression\n",
            "  extra_warning_msg=_LOGISTIC_SOLVER_CONVERGENCE_MSG)\n"
          ]
        },
        {
          "output_type": "execute_result",
          "data": {
            "text/plain": [
              "LogisticRegression(C=1.0, class_weight=None, dual=False, fit_intercept=True,\n",
              "                   intercept_scaling=1, l1_ratio=None, max_iter=100,\n",
              "                   multi_class='auto', n_jobs=None, penalty='l2',\n",
              "                   random_state=None, solver='lbfgs', tol=0.0001, verbose=0,\n",
              "                   warm_start=False)"
            ]
          },
          "metadata": {},
          "execution_count": 29
        }
      ]
    },
    {
      "cell_type": "markdown",
      "metadata": {
        "id": "U_ZTmuWulOJm"
      },
      "source": [
        "Accuracy Score"
      ]
    },
    {
      "cell_type": "code",
      "metadata": {
        "id": "FlDm-5WHlOsK"
      },
      "source": [
        "X_train_prediction = model.predict(X_train)\n",
        "training_data_accuracy = accuracy_score(X_train_prediction, Y_train)"
      ],
      "execution_count": 30,
      "outputs": []
    },
    {
      "cell_type": "code",
      "metadata": {
        "colab": {
          "base_uri": "https://localhost:8080/"
        },
        "id": "kRJXHkydlV0e",
        "outputId": "308e9839-51e4-4512-9dae-cd17c005a47e"
      },
      "source": [
        "print('Accuracy on Training data : ', training_data_accuracy)"
      ],
      "execution_count": 31,
      "outputs": [
        {
          "output_type": "stream",
          "name": "stdout",
          "text": [
            "Accuracy on Training data :  1.0\n"
          ]
        }
      ]
    },
    {
      "cell_type": "code",
      "metadata": {
        "id": "TXgCenlAlXqP"
      },
      "source": [
        "X_test_prediction = model.predict(X_test)\n",
        "test_data_accuracy = accuracy_score(X_test_prediction, Y_test)"
      ],
      "execution_count": 32,
      "outputs": []
    },
    {
      "cell_type": "code",
      "metadata": {
        "colab": {
          "base_uri": "https://localhost:8080/"
        },
        "id": "Bdskrh5QlZ3e",
        "outputId": "aa491b37-1277-42ff-9e85-27bc430d0796"
      },
      "source": [
        "print('Accuracy score of Test Data : ', test_data_accuracy)"
      ],
      "execution_count": 33,
      "outputs": [
        {
          "output_type": "stream",
          "name": "stdout",
          "text": [
            "Accuracy score of Test Data :  1.0\n"
          ]
        }
      ]
    }
  ]
}