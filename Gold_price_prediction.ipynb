{
  "nbformat": 4,
  "nbformat_minor": 0,
  "metadata": {
    "colab": {
      "name": "Gold price prediction.ipynb",
      "provenance": []
    },
    "kernelspec": {
      "name": "python3",
      "display_name": "Python 3"
    },
    "language_info": {
      "name": "python"
    }
  },
  "cells": [
    {
      "cell_type": "markdown",
      "metadata": {
        "id": "-ip7NhynrUNS"
      },
      "source": [
        "Importing the Libraries"
      ]
    },
    {
      "cell_type": "code",
      "metadata": {
        "id": "OTg_Qb_uq4d3"
      },
      "source": [
        "import numpy as np\n",
        "import pandas as pd\n",
        "import matplotlib.pyplot as plt\n",
        "import seaborn as sns\n",
        "from sklearn.model_selection import train_test_split\n",
        "from sklearn.ensemble import RandomForestRegressor\n",
        "from sklearn import metrics"
      ],
      "execution_count": 1,
      "outputs": []
    },
    {
      "cell_type": "code",
      "metadata": {
        "id": "HdmGy863rYRo"
      },
      "source": [
        "gold_data = pd.read_csv('/content/gld_price_data.csv')"
      ],
      "execution_count": 2,
      "outputs": []
    },
    {
      "cell_type": "code",
      "metadata": {
        "colab": {
          "base_uri": "https://localhost:8080/",
          "height": 202
        },
        "id": "IgUVK1B1sVgB",
        "outputId": "a0f9dbca-bf7a-47d5-de65-bbdc744a37f6"
      },
      "source": [
        "gold_data.head()"
      ],
      "execution_count": 3,
      "outputs": [
        {
          "output_type": "execute_result",
          "data": {
            "text/html": [
              "<div>\n",
              "<style scoped>\n",
              "    .dataframe tbody tr th:only-of-type {\n",
              "        vertical-align: middle;\n",
              "    }\n",
              "\n",
              "    .dataframe tbody tr th {\n",
              "        vertical-align: top;\n",
              "    }\n",
              "\n",
              "    .dataframe thead th {\n",
              "        text-align: right;\n",
              "    }\n",
              "</style>\n",
              "<table border=\"1\" class=\"dataframe\">\n",
              "  <thead>\n",
              "    <tr style=\"text-align: right;\">\n",
              "      <th></th>\n",
              "      <th>Date</th>\n",
              "      <th>SPX</th>\n",
              "      <th>GLD</th>\n",
              "      <th>USO</th>\n",
              "      <th>SLV</th>\n",
              "      <th>EUR/USD</th>\n",
              "    </tr>\n",
              "  </thead>\n",
              "  <tbody>\n",
              "    <tr>\n",
              "      <th>0</th>\n",
              "      <td>1/2/2008</td>\n",
              "      <td>1447.160034</td>\n",
              "      <td>84.860001</td>\n",
              "      <td>78.470001</td>\n",
              "      <td>15.180</td>\n",
              "      <td>1.471692</td>\n",
              "    </tr>\n",
              "    <tr>\n",
              "      <th>1</th>\n",
              "      <td>1/3/2008</td>\n",
              "      <td>1447.160034</td>\n",
              "      <td>85.570000</td>\n",
              "      <td>78.370003</td>\n",
              "      <td>15.285</td>\n",
              "      <td>1.474491</td>\n",
              "    </tr>\n",
              "    <tr>\n",
              "      <th>2</th>\n",
              "      <td>1/4/2008</td>\n",
              "      <td>1411.630005</td>\n",
              "      <td>85.129997</td>\n",
              "      <td>77.309998</td>\n",
              "      <td>15.167</td>\n",
              "      <td>1.475492</td>\n",
              "    </tr>\n",
              "    <tr>\n",
              "      <th>3</th>\n",
              "      <td>1/7/2008</td>\n",
              "      <td>1416.180054</td>\n",
              "      <td>84.769997</td>\n",
              "      <td>75.500000</td>\n",
              "      <td>15.053</td>\n",
              "      <td>1.468299</td>\n",
              "    </tr>\n",
              "    <tr>\n",
              "      <th>4</th>\n",
              "      <td>1/8/2008</td>\n",
              "      <td>1390.189941</td>\n",
              "      <td>86.779999</td>\n",
              "      <td>76.059998</td>\n",
              "      <td>15.590</td>\n",
              "      <td>1.557099</td>\n",
              "    </tr>\n",
              "  </tbody>\n",
              "</table>\n",
              "</div>"
            ],
            "text/plain": [
              "       Date          SPX        GLD        USO     SLV   EUR/USD\n",
              "0  1/2/2008  1447.160034  84.860001  78.470001  15.180  1.471692\n",
              "1  1/3/2008  1447.160034  85.570000  78.370003  15.285  1.474491\n",
              "2  1/4/2008  1411.630005  85.129997  77.309998  15.167  1.475492\n",
              "3  1/7/2008  1416.180054  84.769997  75.500000  15.053  1.468299\n",
              "4  1/8/2008  1390.189941  86.779999  76.059998  15.590  1.557099"
            ]
          },
          "metadata": {},
          "execution_count": 3
        }
      ]
    },
    {
      "cell_type": "code",
      "metadata": {
        "colab": {
          "base_uri": "https://localhost:8080/",
          "height": 202
        },
        "id": "4vU6QleHsefE",
        "outputId": "ed436b69-4fc3-4ef8-a399-4b7a3da85552"
      },
      "source": [
        "gold_data.tail()"
      ],
      "execution_count": 4,
      "outputs": [
        {
          "output_type": "execute_result",
          "data": {
            "text/html": [
              "<div>\n",
              "<style scoped>\n",
              "    .dataframe tbody tr th:only-of-type {\n",
              "        vertical-align: middle;\n",
              "    }\n",
              "\n",
              "    .dataframe tbody tr th {\n",
              "        vertical-align: top;\n",
              "    }\n",
              "\n",
              "    .dataframe thead th {\n",
              "        text-align: right;\n",
              "    }\n",
              "</style>\n",
              "<table border=\"1\" class=\"dataframe\">\n",
              "  <thead>\n",
              "    <tr style=\"text-align: right;\">\n",
              "      <th></th>\n",
              "      <th>Date</th>\n",
              "      <th>SPX</th>\n",
              "      <th>GLD</th>\n",
              "      <th>USO</th>\n",
              "      <th>SLV</th>\n",
              "      <th>EUR/USD</th>\n",
              "    </tr>\n",
              "  </thead>\n",
              "  <tbody>\n",
              "    <tr>\n",
              "      <th>2285</th>\n",
              "      <td>5/8/2018</td>\n",
              "      <td>2671.919922</td>\n",
              "      <td>124.589996</td>\n",
              "      <td>14.0600</td>\n",
              "      <td>15.5100</td>\n",
              "      <td>1.186789</td>\n",
              "    </tr>\n",
              "    <tr>\n",
              "      <th>2286</th>\n",
              "      <td>5/9/2018</td>\n",
              "      <td>2697.790039</td>\n",
              "      <td>124.330002</td>\n",
              "      <td>14.3700</td>\n",
              "      <td>15.5300</td>\n",
              "      <td>1.184722</td>\n",
              "    </tr>\n",
              "    <tr>\n",
              "      <th>2287</th>\n",
              "      <td>5/10/2018</td>\n",
              "      <td>2723.070068</td>\n",
              "      <td>125.180000</td>\n",
              "      <td>14.4100</td>\n",
              "      <td>15.7400</td>\n",
              "      <td>1.191753</td>\n",
              "    </tr>\n",
              "    <tr>\n",
              "      <th>2288</th>\n",
              "      <td>5/14/2018</td>\n",
              "      <td>2730.129883</td>\n",
              "      <td>124.489998</td>\n",
              "      <td>14.3800</td>\n",
              "      <td>15.5600</td>\n",
              "      <td>1.193118</td>\n",
              "    </tr>\n",
              "    <tr>\n",
              "      <th>2289</th>\n",
              "      <td>5/16/2018</td>\n",
              "      <td>2725.780029</td>\n",
              "      <td>122.543800</td>\n",
              "      <td>14.4058</td>\n",
              "      <td>15.4542</td>\n",
              "      <td>1.182033</td>\n",
              "    </tr>\n",
              "  </tbody>\n",
              "</table>\n",
              "</div>"
            ],
            "text/plain": [
              "           Date          SPX         GLD      USO      SLV   EUR/USD\n",
              "2285   5/8/2018  2671.919922  124.589996  14.0600  15.5100  1.186789\n",
              "2286   5/9/2018  2697.790039  124.330002  14.3700  15.5300  1.184722\n",
              "2287  5/10/2018  2723.070068  125.180000  14.4100  15.7400  1.191753\n",
              "2288  5/14/2018  2730.129883  124.489998  14.3800  15.5600  1.193118\n",
              "2289  5/16/2018  2725.780029  122.543800  14.4058  15.4542  1.182033"
            ]
          },
          "metadata": {},
          "execution_count": 4
        }
      ]
    },
    {
      "cell_type": "code",
      "metadata": {
        "colab": {
          "base_uri": "https://localhost:8080/"
        },
        "id": "EPRx6X62sfLo",
        "outputId": "9ec489e4-8b8a-4d6c-a0b5-44f812db3971"
      },
      "source": [
        "gold_data.shape"
      ],
      "execution_count": 5,
      "outputs": [
        {
          "output_type": "execute_result",
          "data": {
            "text/plain": [
              "(2290, 6)"
            ]
          },
          "metadata": {},
          "execution_count": 5
        }
      ]
    },
    {
      "cell_type": "code",
      "metadata": {
        "colab": {
          "base_uri": "https://localhost:8080/"
        },
        "id": "rYu_T44ssgyU",
        "outputId": "1fdb4d80-b3d9-4f29-f668-54cf4167268b"
      },
      "source": [
        "gold_data.info()"
      ],
      "execution_count": 6,
      "outputs": [
        {
          "output_type": "stream",
          "name": "stdout",
          "text": [
            "<class 'pandas.core.frame.DataFrame'>\n",
            "RangeIndex: 2290 entries, 0 to 2289\n",
            "Data columns (total 6 columns):\n",
            " #   Column   Non-Null Count  Dtype  \n",
            "---  ------   --------------  -----  \n",
            " 0   Date     2290 non-null   object \n",
            " 1   SPX      2290 non-null   float64\n",
            " 2   GLD      2290 non-null   float64\n",
            " 3   USO      2290 non-null   float64\n",
            " 4   SLV      2290 non-null   float64\n",
            " 5   EUR/USD  2290 non-null   float64\n",
            "dtypes: float64(5), object(1)\n",
            "memory usage: 107.5+ KB\n"
          ]
        }
      ]
    },
    {
      "cell_type": "code",
      "metadata": {
        "colab": {
          "base_uri": "https://localhost:8080/"
        },
        "id": "AMVDc_wjsidS",
        "outputId": "ef40682d-5b53-43fe-a553-5d45ca4e22d8"
      },
      "source": [
        "gold_data.isnull().sum()"
      ],
      "execution_count": 7,
      "outputs": [
        {
          "output_type": "execute_result",
          "data": {
            "text/plain": [
              "Date       0\n",
              "SPX        0\n",
              "GLD        0\n",
              "USO        0\n",
              "SLV        0\n",
              "EUR/USD    0\n",
              "dtype: int64"
            ]
          },
          "metadata": {},
          "execution_count": 7
        }
      ]
    },
    {
      "cell_type": "code",
      "metadata": {
        "colab": {
          "base_uri": "https://localhost:8080/",
          "height": 294
        },
        "id": "4-UiHQ-5skR_",
        "outputId": "a457cc79-fce4-4bb9-ddd7-6befafcf671f"
      },
      "source": [
        "gold_data.describe()"
      ],
      "execution_count": 8,
      "outputs": [
        {
          "output_type": "execute_result",
          "data": {
            "text/html": [
              "<div>\n",
              "<style scoped>\n",
              "    .dataframe tbody tr th:only-of-type {\n",
              "        vertical-align: middle;\n",
              "    }\n",
              "\n",
              "    .dataframe tbody tr th {\n",
              "        vertical-align: top;\n",
              "    }\n",
              "\n",
              "    .dataframe thead th {\n",
              "        text-align: right;\n",
              "    }\n",
              "</style>\n",
              "<table border=\"1\" class=\"dataframe\">\n",
              "  <thead>\n",
              "    <tr style=\"text-align: right;\">\n",
              "      <th></th>\n",
              "      <th>SPX</th>\n",
              "      <th>GLD</th>\n",
              "      <th>USO</th>\n",
              "      <th>SLV</th>\n",
              "      <th>EUR/USD</th>\n",
              "    </tr>\n",
              "  </thead>\n",
              "  <tbody>\n",
              "    <tr>\n",
              "      <th>count</th>\n",
              "      <td>2290.000000</td>\n",
              "      <td>2290.000000</td>\n",
              "      <td>2290.000000</td>\n",
              "      <td>2290.000000</td>\n",
              "      <td>2290.000000</td>\n",
              "    </tr>\n",
              "    <tr>\n",
              "      <th>mean</th>\n",
              "      <td>1654.315776</td>\n",
              "      <td>122.732875</td>\n",
              "      <td>31.842221</td>\n",
              "      <td>20.084997</td>\n",
              "      <td>1.283653</td>\n",
              "    </tr>\n",
              "    <tr>\n",
              "      <th>std</th>\n",
              "      <td>519.111540</td>\n",
              "      <td>23.283346</td>\n",
              "      <td>19.523517</td>\n",
              "      <td>7.092566</td>\n",
              "      <td>0.131547</td>\n",
              "    </tr>\n",
              "    <tr>\n",
              "      <th>min</th>\n",
              "      <td>676.530029</td>\n",
              "      <td>70.000000</td>\n",
              "      <td>7.960000</td>\n",
              "      <td>8.850000</td>\n",
              "      <td>1.039047</td>\n",
              "    </tr>\n",
              "    <tr>\n",
              "      <th>25%</th>\n",
              "      <td>1239.874969</td>\n",
              "      <td>109.725000</td>\n",
              "      <td>14.380000</td>\n",
              "      <td>15.570000</td>\n",
              "      <td>1.171313</td>\n",
              "    </tr>\n",
              "    <tr>\n",
              "      <th>50%</th>\n",
              "      <td>1551.434998</td>\n",
              "      <td>120.580002</td>\n",
              "      <td>33.869999</td>\n",
              "      <td>17.268500</td>\n",
              "      <td>1.303296</td>\n",
              "    </tr>\n",
              "    <tr>\n",
              "      <th>75%</th>\n",
              "      <td>2073.010070</td>\n",
              "      <td>132.840004</td>\n",
              "      <td>37.827501</td>\n",
              "      <td>22.882499</td>\n",
              "      <td>1.369971</td>\n",
              "    </tr>\n",
              "    <tr>\n",
              "      <th>max</th>\n",
              "      <td>2872.870117</td>\n",
              "      <td>184.589996</td>\n",
              "      <td>117.480003</td>\n",
              "      <td>47.259998</td>\n",
              "      <td>1.598798</td>\n",
              "    </tr>\n",
              "  </tbody>\n",
              "</table>\n",
              "</div>"
            ],
            "text/plain": [
              "               SPX          GLD          USO          SLV      EUR/USD\n",
              "count  2290.000000  2290.000000  2290.000000  2290.000000  2290.000000\n",
              "mean   1654.315776   122.732875    31.842221    20.084997     1.283653\n",
              "std     519.111540    23.283346    19.523517     7.092566     0.131547\n",
              "min     676.530029    70.000000     7.960000     8.850000     1.039047\n",
              "25%    1239.874969   109.725000    14.380000    15.570000     1.171313\n",
              "50%    1551.434998   120.580002    33.869999    17.268500     1.303296\n",
              "75%    2073.010070   132.840004    37.827501    22.882499     1.369971\n",
              "max    2872.870117   184.589996   117.480003    47.259998     1.598798"
            ]
          },
          "metadata": {},
          "execution_count": 8
        }
      ]
    },
    {
      "cell_type": "code",
      "metadata": {
        "id": "CCPVY4m2smKc"
      },
      "source": [
        "correlation = gold_data.corr()"
      ],
      "execution_count": 9,
      "outputs": []
    },
    {
      "cell_type": "code",
      "metadata": {
        "colab": {
          "base_uri": "https://localhost:8080/",
          "height": 486
        },
        "id": "uVDgeaXWson9",
        "outputId": "6ec91fba-1a56-4b10-a196-18bc93f9c3fa"
      },
      "source": [
        "plt.figure(figsize = (8,8))\n",
        "sns.heatmap(correlation, cbar=True, square=True, fmt='.1f',annot=True, annot_kws={'size':8}, cmap='Blues')"
      ],
      "execution_count": 10,
      "outputs": [
        {
          "output_type": "execute_result",
          "data": {
            "text/plain": [
              "<matplotlib.axes._subplots.AxesSubplot at 0x7f71c1019290>"
            ]
          },
          "metadata": {},
          "execution_count": 10
        },
        {
          "output_type": "display_data",
          "data": {
            "image/png": "[encoded data removed]",
            "text/plain": [
              "<Figure size 576x576 with 2 Axes>"
            ]
          },
          "metadata": {
            "needs_background": "light"
          }
        }
      ]
    },
    {
      "cell_type": "code",
      "metadata": {
        "colab": {
          "base_uri": "https://localhost:8080/"
        },
        "id": "DcJUsIRysqwq",
        "outputId": "5c926d4c-bc2e-4f7c-f0f4-dd3136c5a49f"
      },
      "source": [
        "print(correlation['GLD'])"
      ],
      "execution_count": 11,
      "outputs": [
        {
          "output_type": "stream",
          "name": "stdout",
          "text": [
            "SPX        0.049345\n",
            "GLD        1.000000\n",
            "USO       -0.186360\n",
            "SLV        0.866632\n",
            "EUR/USD   -0.024375\n",
            "Name: GLD, dtype: float64\n"
          ]
        }
      ]
    },
    {
      "cell_type": "code",
      "metadata": {
        "colab": {
          "base_uri": "https://localhost:8080/",
          "height": 353
        },
        "id": "MHP9KEuoss5D",
        "outputId": "f0cf9c5e-0480-4003-e8f4-93580224009b"
      },
      "source": [
        "sns.distplot(gold_data['GLD'],color='green')"
      ],
      "execution_count": 12,
      "outputs": [
        {
          "output_type": "stream",
          "name": "stderr",
          "text": [
            "/usr/local/lib/python3.7/dist-packages/seaborn/distributions.py:2619: FutureWarning: `distplot` is a deprecated function and will be removed in a future version. Please adapt your code to use either `displot` (a figure-level function with similar flexibility) or `histplot` (an axes-level function for histograms).\n",
            "  warnings.warn(msg, FutureWarning)\n"
          ]
        },
        {
          "output_type": "execute_result",
          "data": {
            "text/plain": [
              "<matplotlib.axes._subplots.AxesSubplot at 0x7f71b82273d0>"
            ]
          },
          "metadata": {},
          "execution_count": 12
        },
        {
          "output_type": "display_data",
          "data": {
            "image/png": "[encoded data removed]",
            "text/plain": [
              "<Figure size 432x288 with 1 Axes>"
            ]
          },
          "metadata": {
            "needs_background": "light"
          }
        }
      ]
    },
    {
      "cell_type": "code",
      "metadata": {
        "id": "FqUaPdPgsuvB"
      },
      "source": [
        "X = gold_data.drop(['Date','GLD'],axis=1)\n",
        "Y = gold_data['GLD']"
      ],
      "execution_count": 13,
      "outputs": []
    },
    {
      "cell_type": "code",
      "metadata": {
        "colab": {
          "base_uri": "https://localhost:8080/"
        },
        "id": "k8SWJZQ0sxle",
        "outputId": "7b4390b2-8705-49f5-ecc9-d2a8d919adf9"
      },
      "source": [
        "print(X)"
      ],
      "execution_count": 14,
      "outputs": [
        {
          "output_type": "stream",
          "name": "stdout",
          "text": [
            "              SPX        USO      SLV   EUR/USD\n",
            "0     1447.160034  78.470001  15.1800  1.471692\n",
            "1     1447.160034  78.370003  15.2850  1.474491\n",
            "2     1411.630005  77.309998  15.1670  1.475492\n",
            "3     1416.180054  75.500000  15.0530  1.468299\n",
            "4     1390.189941  76.059998  15.5900  1.557099\n",
            "...           ...        ...      ...       ...\n",
            "2285  2671.919922  14.060000  15.5100  1.186789\n",
            "2286  2697.790039  14.370000  15.5300  1.184722\n",
            "2287  2723.070068  14.410000  15.7400  1.191753\n",
            "2288  2730.129883  14.380000  15.5600  1.193118\n",
            "2289  2725.780029  14.405800  15.4542  1.182033\n",
            "\n",
            "[2290 rows x 4 columns]\n"
          ]
        }
      ]
    },
    {
      "cell_type": "code",
      "metadata": {
        "colab": {
          "base_uri": "https://localhost:8080/"
        },
        "id": "NNmh9MTLs01F",
        "outputId": "174ecac0-7471-4c8c-e898-a44cdf917746"
      },
      "source": [
        "print(Y)"
      ],
      "execution_count": 15,
      "outputs": [
        {
          "output_type": "stream",
          "name": "stdout",
          "text": [
            "0        84.860001\n",
            "1        85.570000\n",
            "2        85.129997\n",
            "3        84.769997\n",
            "4        86.779999\n",
            "           ...    \n",
            "2285    124.589996\n",
            "2286    124.330002\n",
            "2287    125.180000\n",
            "2288    124.489998\n",
            "2289    122.543800\n",
            "Name: GLD, Length: 2290, dtype: float64\n"
          ]
        }
      ]
    },
    {
      "cell_type": "markdown",
      "metadata": {
        "id": "tVMPnosCs5Us"
      },
      "source": [
        "Splitting into Training data and Test Data"
      ]
    },
    {
      "cell_type": "code",
      "metadata": {
        "id": "ZDhdSqTAs2o3"
      },
      "source": [
        "X_train, X_test, Y_train, Y_test = train_test_split(X, Y, test_size = 0.2, random_state=2)"
      ],
      "execution_count": 18,
      "outputs": []
    },
    {
      "cell_type": "markdown",
      "metadata": {
        "id": "6iABCQRZtJzL"
      },
      "source": [
        "Model Training: Random Forest Regressor"
      ]
    },
    {
      "cell_type": "code",
      "metadata": {
        "id": "RHCfODaKtBB-"
      },
      "source": [
        "regressor = RandomForestRegressor(n_estimators=100)"
      ],
      "execution_count": 19,
      "outputs": []
    },
    {
      "cell_type": "code",
      "metadata": {
        "colab": {
          "base_uri": "https://localhost:8080/"
        },
        "id": "IYJu9li0tN7Z",
        "outputId": "41c33960-8d37-4043-9d49-7123092b904c"
      },
      "source": [
        "regressor.fit(X_train,Y_train)"
      ],
      "execution_count": 20,
      "outputs": [
        {
          "output_type": "execute_result",
          "data": {
            "text/plain": [
              "RandomForestRegressor(bootstrap=True, ccp_alpha=0.0, criterion='mse',\n",
              "                      max_depth=None, max_features='auto', max_leaf_nodes=None,\n",
              "                      max_samples=None, min_impurity_decrease=0.0,\n",
              "                      min_impurity_split=None, min_samples_leaf=1,\n",
              "                      min_samples_split=2, min_weight_fraction_leaf=0.0,\n",
              "                      n_estimators=100, n_jobs=None, oob_score=False,\n",
              "                      random_state=None, verbose=0, warm_start=False)"
            ]
          },
          "metadata": {},
          "execution_count": 20
        }
      ]
    },
    {
      "cell_type": "markdown",
      "metadata": {
        "id": "4AXF_1MmtR-2"
      },
      "source": [
        "Model Evaluation"
      ]
    },
    {
      "cell_type": "code",
      "metadata": {
        "id": "lTNk_MuRtPtm"
      },
      "source": [
        "test_data_prediction = regressor.predict(X_test)"
      ],
      "execution_count": 21,
      "outputs": []
    },
    {
      "cell_type": "code",
      "metadata": {
        "colab": {
          "base_uri": "https://localhost:8080/"
        },
        "id": "QADDX2PUtU4A",
        "outputId": "92f5fb74-356a-41f3-e339-20ab5c2cf259"
      },
      "source": [
        "print(test_data_prediction)"
      ],
      "execution_count": 22,
      "outputs": [
        {
          "output_type": "stream",
          "name": "stdout",
          "text": [
            "[168.8053995   82.0031997  116.23590004 127.52850071 120.83040131\n",
            " 154.59989652 150.95299859 126.21710054 117.46069884 125.99970025\n",
            " 116.73910103 171.95050014 141.33649906 167.95839841 115.14750012\n",
            " 117.66800035 140.73080224 170.17000082 158.49550254 158.70839911\n",
            " 155.19290013 124.82560025 176.25079982 157.54190385 125.21670033\n",
            "  93.95360005  77.74420027 120.63330007 119.16839983 167.56290009\n",
            "  88.31910033 125.32029986  91.06710061 117.74550036 121.0048989\n",
            " 136.25400042 115.66250119 115.13030096 149.40689941 107.20060097\n",
            " 104.3321025   87.33869829 126.41690059 117.75269966 153.786299\n",
            " 119.74839982 108.34179998 108.09619833  93.05730004 127.03749791\n",
            "  75.24430042 113.59209922 121.17310019 111.33289917 118.80709888\n",
            " 120.49999955 159.11479944 166.12650039 146.86019666  86.0196986\n",
            "  94.3439002   86.74409887  90.49269982 118.99870087 126.3478008\n",
            " 127.70629993 169.83460015 122.33829933 117.4967992   98.27730036\n",
            " 168.49480228 142.93749672 131.51450248 121.19540237 120.76509963\n",
            " 119.62880081 114.52700201 118.16340069 107.1233008  127.89170064\n",
            " 113.80599957 107.26799991 116.7709006  119.64649882  88.94390028\n",
            "  88.20429883 146.78900253 127.43970012 113.43270012 110.10949808\n",
            " 108.12509914  76.8947991  169.12890182 114.05409914 121.6200991\n",
            " 127.84020176 154.80899755  91.91629947 136.32650124 158.5996028\n",
            " 125.84130027 125.52560028 130.88230212 114.90840125 119.81359948\n",
            "  92.07569982 110.37459884 168.87839963 157.27449938 114.15039928\n",
            " 106.64220123  80.10409971 113.25490059 125.81200039 107.34109943\n",
            " 119.17280122 155.9276032  159.9161991  120.05509988 134.66900194\n",
            " 101.27819963 117.52319783 119.38620017 113.10180068 102.73739926\n",
            " 160.07259766  99.09130027 146.95019933 125.63560098 169.7001987\n",
            " 125.54809918 127.32779741 127.65860149 113.62219957 113.15750073\n",
            " 123.58219917 102.08959914  89.3186994  124.55649937 101.42049925\n",
            " 107.23649938 113.31040053 117.34580086  98.84049921 121.80700023\n",
            " 162.62609776  87.50579902 106.70269973 117.30610025 127.70220113\n",
            " 124.20080073  80.72899935 120.34260063 157.68069814  88.04409961\n",
            " 110.24319958 118.77289911 172.46849893 102.98329906 105.57570045\n",
            " 122.75730035 158.66299773  87.74919846  92.88370073 112.75330043\n",
            " 177.35769978 114.32029992 119.39489998  94.75260063 125.8159001\n",
            " 166.23850127 115.02980062 116.5871011   88.24609879 148.62260066\n",
            " 120.32379941  89.67519998 112.23280008 117.17610045 118.73400098\n",
            "  87.95349918  94.12169984 116.69040024 118.3639021  120.21870058\n",
            " 126.64699817 121.83029991 149.17670025 164.70340045 118.52439978\n",
            " 120.51150146 150.44639961 118.45599923 172.7029995  105.80649916\n",
            " 105.00350103 149.38330088 113.66460063 124.83110111 147.84339904\n",
            " 119.66660176 115.19870042 112.58040026 113.3434021  141.28970158\n",
            " 117.85149765 102.96420036 115.74560101 103.90340187  98.5261005\n",
            " 116.95670092  90.70680021  91.43110069 153.40179862 102.64299989\n",
            " 153.41070091 114.23670165 138.43360126  90.00089788 115.48599955\n",
            " 114.4764998  122.96390016 121.76560038 165.19070185  92.79619976\n",
            " 135.02450139 121.37669912 120.82930042 104.66170019 140.57840318\n",
            " 121.69829865 116.61340056 113.58770073 127.06399782 122.74579968\n",
            " 125.89949965 121.18590039  86.82359923 132.42990225 144.30090194\n",
            "  92.76919959 159.02749916 158.72170268 126.55999881 164.73119963\n",
            " 108.94719981 109.82490051 103.6945983   94.08640083 127.87540306\n",
            " 107.31630041 162.38099999 121.71820019 131.92430045 130.89850177\n",
            " 160.699399    90.05109819 175.07430138 127.61220009 126.68699848\n",
            "  86.39109946 124.47279918 150.44119758  89.7659001  106.93379971\n",
            " 109.1344998   84.38419884 135.49829888 155.22110185 137.99730379\n",
            "  74.15670025 151.29070086 126.04350004 126.76860035 127.48089908\n",
            " 108.64479904 156.39550072 114.60260128 117.07820155 125.57779981\n",
            " 154.15180174 121.39109977 156.45999794  93.05300068 125.5725016\n",
            " 125.58230032  87.68360018  92.42609931 126.21009919 128.20060362\n",
            " 113.36980088 117.84099798 121.01319993 127.16199792 119.66670096\n",
            " 136.1593002   94.0053991  119.91850026 113.23130108  94.24989929\n",
            " 108.70889992  87.61549923 109.05009949  89.6702997   92.46439997\n",
            " 131.91340317 162.28400049  89.1686004  119.6244007  133.47030183\n",
            " 123.77180027 128.2631019  101.87809829  89.05039881 131.387\n",
            " 119.79350032 108.58980002 167.41560035 115.15650043  86.56589913\n",
            " 118.72390052  90.94329968 162.25549996 116.55680067 121.68050001\n",
            " 160.06539762 120.02199923 112.41409966 108.48379899 126.87179964\n",
            "  76.00550025 102.98909987 127.86780231 121.73979909  92.54700007\n",
            " 132.59410026 118.19020063 116.03299958 154.23510289 159.27840074\n",
            " 110.09779967 156.11579752 119.28670096 160.63110093 118.59070052\n",
            " 156.95789935 115.09669942 116.70850041 150.13649872 114.68060085\n",
            " 125.57529873 166.38100039 117.77389997 124.83779908 153.36550372\n",
            " 153.40430202 132.14670104 114.6504007  121.34930196 125.27910077\n",
            "  89.79490039 122.7493     155.07470166 111.65980039 106.76219971\n",
            " 161.95890142 118.66100007 165.63330013 133.9046013  114.83179971\n",
            " 152.94849848 168.6228     115.37980016 113.89440116 157.34789799\n",
            "  85.59029867 127.0582008  127.94260065 128.84579969 124.18370055\n",
            " 123.86840079  90.60180084 153.26910061  97.26419971 136.82869937\n",
            "  89.25299925 107.22380007 114.99770031 112.97840067 124.11899925\n",
            "  91.32839922 125.52040127 162.23619914 119.84999922 165.14650131\n",
            " 126.74919803 112.28710031 127.52929946  94.75889884  91.08349959\n",
            " 102.7814991  120.81280004  82.99259931 126.32840003 159.4273043\n",
            " 117.18590062 118.29659978 119.95680006 122.18709929 120.12780135\n",
            " 121.47339987 118.11180058 107.18409967 147.97029928 125.91219873\n",
            " 115.75460103  74.01260026 127.84550104 154.37140145 122.32779996\n",
            " 125.61220015  88.73500075 102.69249862 124.98480028 120.14810043\n",
            "  73.34450093 151.11749988 121.21490015 104.87550032  86.36219785\n",
            " 115.09749866 172.23849725 119.96770016 159.71469792 113.17249984\n",
            " 121.16449961 118.48470069  95.98449988 118.84750003 125.92460025\n",
            " 118.55269953  95.86100023 153.47310199 122.06969991 147.4136993\n",
            " 159.01480263 113.91670005 122.5352994  148.65079824 127.15570026\n",
            " 165.85390066 135.81860076 119.96529926 167.34849864 108.34779915\n",
            " 121.94189842 138.80760103 107.00089869]\n"
          ]
        }
      ]
    },
    {
      "cell_type": "code",
      "metadata": {
        "colab": {
          "base_uri": "https://localhost:8080/"
        },
        "id": "X7N053pZtWzP",
        "outputId": "15fadfc9-9bb5-4533-9d77-68560b68405e"
      },
      "source": [
        "error_score = metrics.r2_score(Y_test, test_data_prediction)\n",
        "print(\"R squared error : \", error_score)"
      ],
      "execution_count": 23,
      "outputs": [
        {
          "output_type": "stream",
          "name": "stdout",
          "text": [
            "R squared error :  0.9887428219077035\n"
          ]
        }
      ]
    },
    {
      "cell_type": "markdown",
      "metadata": {
        "id": "zwxSwWEotdbY"
      },
      "source": [
        "Compare the Actual Values and Predicted Values in a Plot"
      ]
    },
    {
      "cell_type": "code",
      "metadata": {
        "id": "u91_Qty7taNG"
      },
      "source": [
        "Y_test = list(Y_test)"
      ],
      "execution_count": 24,
      "outputs": []
    },
    {
      "cell_type": "code",
      "metadata": {
        "colab": {
          "base_uri": "https://localhost:8080/",
          "height": 295
        },
        "id": "ddFapttdtf6P",
        "outputId": "122219f5-0999-4253-abea-1430c059c2d8"
      },
      "source": [
        "plt.plot(Y_test, color='blue', label = 'Actual Value')\n",
        "plt.plot(test_data_prediction, color='green', label='Predicted Value')\n",
        "plt.title('Actual Price vs Predicted Price')\n",
        "plt.xlabel('Number of values')\n",
        "plt.ylabel('GLD Price')\n",
        "plt.legend()\n",
        "plt.show()"
      ],
      "execution_count": 25,
      "outputs": [
        {
          "output_type": "display_data",
          "data": {
            "image/png": "[encoded data removed]",
            "text/plain": [
              "<Figure size 432x288 with 1 Axes>"
            ]
          },
          "metadata": {
            "needs_background": "light"
          }
        }
      ]
    },
    {
      "cell_type": "code",
      "metadata": {
        "id": "5FwN1qUotieI"
      },
      "source": [
        ""
      ],
      "execution_count": null,
      "outputs": []
    }
  ]
}